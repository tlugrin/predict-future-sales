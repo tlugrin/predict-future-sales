{
 "cells": [
  {
   "cell_type": "markdown",
   "metadata": {},
   "source": [
    "# Data pre-processing\n",
    "\n",
    "Aggregate monthly data and produce new features from raw data.\n",
    "\n",
    "1. sum and standard deviation of counts (for each item-shop pair, each item, and each shop) by month\n",
    "1. price, revenue, growth between median montly item price compared to overall median item price\n",
    "1. lag (some of) the above features by 1,2,3 and/or 12 months"
   ]
  },
  {
   "cell_type": "markdown",
   "metadata": {},
   "source": [
    "## Load raw data"
   ]
  },
  {
   "cell_type": "code",
   "execution_count": 1,
   "metadata": {},
   "outputs": [],
   "source": [
    "import pandas as pd\n",
    "import numpy as np\n",
    "from itertools import product\n",
    "import os\n",
    "import pickle\n",
    "from sklearn import preprocessing\n",
    "from sklearn.feature_extraction.text import TfidfVectorizer\n",
    "from sklearn.decomposition import TruncatedSVD\n",
    "import re\n",
    "import matplotlib.pyplot as plt"
   ]
  },
  {
   "cell_type": "code",
   "execution_count": 2,
   "metadata": {},
   "outputs": [],
   "source": [
    "DATA_FOLDER = '../Data/'\n",
    "INTERM_RES_FOLDER = \"../Intermediary results\""
   ]
  },
  {
   "cell_type": "code",
   "execution_count": 3,
   "metadata": {},
   "outputs": [],
   "source": [
    "sales    = pd.read_csv(os.path.join(DATA_FOLDER, 'sales_train.csv.gz'))\n",
    "items    = pd.read_csv(os.path.join(DATA_FOLDER, 'items.csv'))\n",
    "item_cat = pd.read_csv(os.path.join(DATA_FOLDER, 'item_categories.csv'))\n",
    "shops    = pd.read_csv(os.path.join(DATA_FOLDER, 'shops.csv'))\n",
    "test     = pd.read_csv(os.path.join(DATA_FOLDER, 'test.csv.gz'))"
   ]
  },
  {
   "cell_type": "markdown",
   "metadata": {},
   "source": [
    "## Repair oddities\n",
    "\n",
    "See EDA. Duplicate shops with different ID's and price outlier."
   ]
  },
  {
   "cell_type": "code",
   "execution_count": 4,
   "metadata": {},
   "outputs": [],
   "source": [
    "sales.loc[sales.shop_id == 10, \"shop_id\"] = 11\n",
    "sales.loc[sales.shop_id == 40] == 39\n",
    "sales.loc[sales.shop_id == 0, \"shop_id\"] = 57\n",
    "sales.loc[sales.shop_id == 1, \"shop_id\"] = 58\n",
    "test.loc[test.shop_id == 10, \"shop_id\"] = 11\n",
    "test.loc[test.shop_id == 0, \"shop_id\"] = 57\n",
    "test.loc[test.shop_id == 1, \"shop_id\"] = 58\n",
    "shops = shops[~shops.shop_id.isin([10,0,1])]\n",
    "sales.drop(index=1163158, inplace=True)# price outlier, single item\n",
    "sales.loc[sales.item_price < 0, \"item_price\"] = 1249# based on same item, same day"
   ]
  },
  {
   "cell_type": "markdown",
   "metadata": {},
   "source": [
    "## Extract information from text data"
   ]
  },
  {
   "cell_type": "code",
   "execution_count": 5,
   "metadata": {},
   "outputs": [],
   "source": [
    "shops[\"city_name\"] = shops.shop_name.apply(lambda x: x.split(\" \")[0])\n",
    "le = preprocessing.LabelEncoder()\n",
    "shops[\"city\"] = le.fit_transform(shops[\"city_name\"])"
   ]
  },
  {
   "cell_type": "code",
   "execution_count": 6,
   "metadata": {},
   "outputs": [],
   "source": [
    "item_cat[\"splitlist\"] = item_cat.item_category_name.apply(lambda x: x.split(\"-\"))\n",
    "item_cat[\"metacat_name\"] = item_cat.splitlist.apply(lambda x: x[0].strip())\n",
    "item_cat[\"subcat_name\"]  = item_cat.splitlist.apply(lambda x: x[1] if len(x) > 1 else x[0])\n",
    "item_cat.drop(columns=\"splitlist\", inplace=True)\n",
    "item_cat[\"metacat\"] = le.fit_transform(item_cat[\"metacat_name\"])\n",
    "item_cat[\"subcat\"] = le.fit_transform(item_cat[\"subcat_name\"])"
   ]
  },
  {
   "cell_type": "code",
   "execution_count": 8,
   "metadata": {},
   "outputs": [
    {
     "name": "stdout",
     "output_type": "stream",
     "text": [
      "0.4825444565857249\n"
     ]
    },
    {
     "data": {
      "text/plain": [
       "<BarContainer object of 25 artists>"
      ]
     },
     "execution_count": 8,
     "metadata": {},
     "output_type": "execute_result"
    },
    {
     "data": {
      "image/png": "[encoded data removed]",
      "text/plain": [
       "<Figure size 1152x432 with 1 Axes>"
      ]
     },
     "metadata": {
      "needs_background": "light"
     },
     "output_type": "display_data"
    }
   ],
   "source": [
    "items[\"item_name_clean\"] = items[\"item_name\"].apply(lambda x: x.lower())\n",
    "items[\"item_name_clean\"] = items[\"item_name_clean\"].apply(lambda x: re.sub(r'\\W+',' ',x))\n",
    "items[\"item_name_clean\"] = items[\"item_name_clean\"].apply(lambda x: re.sub('  ',' ',x))\n",
    "items[\"item_name_clean\"] = items[\"item_name_clean\"].apply(lambda x: x.strip())\n",
    "\n",
    "tfidf = TfidfVectorizer(lowercase=False, max_features=250).fit_transform(items.item_name_clean)\n",
    "svd = TruncatedSVD(n_components=25).fit(tfidf)\n",
    "\n",
    "print(\"Explained variance:\" svd.explained_variance_ratio_.sum())\n",
    "plt.figure(figsize=(16, 6))\n",
    "plt.bar(x=range(1,26), height=svd.explained_variance_ratio_)"
   ]
  },
  {
   "cell_type": "code",
   "execution_count": 10,
   "metadata": {},
   "outputs": [],
   "source": [
    "svd = TruncatedSVD(n_components=5).fit(tfidf)\n",
    "word2num = svd.transform(tfidf)\n",
    "\n",
    "for i in range(4):\n",
    "    items[\"item_name2num_\"+str(i+1)] = word2num[:,i]"
   ]
  },
  {
   "cell_type": "code",
   "execution_count": 11,
   "metadata": {},
   "outputs": [
    {
     "name": "stdout",
     "output_type": "stream",
     "text": [
      "Fraction of items without information added:\n",
      "0.12404149751917005\n"
     ]
    },
    {
     "data": {
      "text/html": [
       "<div>\n",
       "<style scoped>\n",
       "    .dataframe tbody tr th:only-of-type {\n",
       "        vertical-align: middle;\n",
       "    }\n",
       "\n",
       "    .dataframe tbody tr th {\n",
       "        vertical-align: top;\n",
       "    }\n",
       "\n",
       "    .dataframe thead th {\n",
       "        text-align: right;\n",
       "    }\n",
       "</style>\n",
       "<table border=\"1\" class=\"dataframe\">\n",
       "  <thead>\n",
       "    <tr style=\"text-align: right;\">\n",
       "      <th></th>\n",
       "      <th>item_name</th>\n",
       "      <th>item_id</th>\n",
       "      <th>item_category_id</th>\n",
       "      <th>item_name_clean</th>\n",
       "      <th>item_name2num_1</th>\n",
       "      <th>item_name2num_2</th>\n",
       "      <th>item_name2num_3</th>\n",
       "      <th>item_name2num_4</th>\n",
       "    </tr>\n",
       "  </thead>\n",
       "  <tbody>\n",
       "    <tr>\n",
       "      <th>0</th>\n",
       "      <td>! ВО ВЛАСТИ НАВАЖДЕНИЯ (ПЛАСТ.)         D</td>\n",
       "      <td>0</td>\n",
       "      <td>40</td>\n",
       "      <td>во власти наваждения пласт d</td>\n",
       "      <td>0.000000</td>\n",
       "      <td>0.00000</td>\n",
       "      <td>0.000000</td>\n",
       "      <td>0.000000</td>\n",
       "    </tr>\n",
       "    <tr>\n",
       "      <th>1</th>\n",
       "      <td>!ABBYY FineReader 12 Professional Edition Full...</td>\n",
       "      <td>1</td>\n",
       "      <td>76</td>\n",
       "      <td>abbyy finereader 12 professional edition full ...</td>\n",
       "      <td>0.003944</td>\n",
       "      <td>0.00536</td>\n",
       "      <td>0.586374</td>\n",
       "      <td>-0.083372</td>\n",
       "    </tr>\n",
       "    <tr>\n",
       "      <th>2</th>\n",
       "      <td>***В ЛУЧАХ СЛАВЫ   (UNV)                    D</td>\n",
       "      <td>2</td>\n",
       "      <td>40</td>\n",
       "      <td>в лучах славы unv d</td>\n",
       "      <td>0.000000</td>\n",
       "      <td>0.00000</td>\n",
       "      <td>0.000000</td>\n",
       "      <td>0.000000</td>\n",
       "    </tr>\n",
       "    <tr>\n",
       "      <th>3</th>\n",
       "      <td>***ГОЛУБАЯ ВОЛНА  (Univ)                      D</td>\n",
       "      <td>3</td>\n",
       "      <td>40</td>\n",
       "      <td>голубая волна univ d</td>\n",
       "      <td>0.000000</td>\n",
       "      <td>0.00000</td>\n",
       "      <td>0.000000</td>\n",
       "      <td>0.000000</td>\n",
       "    </tr>\n",
       "    <tr>\n",
       "      <th>4</th>\n",
       "      <td>***КОРОБКА (СТЕКЛО)                       D</td>\n",
       "      <td>4</td>\n",
       "      <td>40</td>\n",
       "      <td>коробка стекло d</td>\n",
       "      <td>0.000000</td>\n",
       "      <td>0.00000</td>\n",
       "      <td>0.000000</td>\n",
       "      <td>0.000000</td>\n",
       "    </tr>\n",
       "  </tbody>\n",
       "</table>\n",
       "</div>"
      ],
      "text/plain": [
       "                                           item_name  item_id  \\\n",
       "0          ! ВО ВЛАСТИ НАВАЖДЕНИЯ (ПЛАСТ.)         D        0   \n",
       "1  !ABBYY FineReader 12 Professional Edition Full...        1   \n",
       "2      ***В ЛУЧАХ СЛАВЫ   (UNV)                    D        2   \n",
       "3    ***ГОЛУБАЯ ВОЛНА  (Univ)                      D        3   \n",
       "4        ***КОРОБКА (СТЕКЛО)                       D        4   \n",
       "\n",
       "   item_category_id                                    item_name_clean  \\\n",
       "0                40                       во власти наваждения пласт d   \n",
       "1                76  abbyy finereader 12 professional edition full ...   \n",
       "2                40                                в лучах славы unv d   \n",
       "3                40                               голубая волна univ d   \n",
       "4                40                                   коробка стекло d   \n",
       "\n",
       "   item_name2num_1  item_name2num_2  item_name2num_3  item_name2num_4  \n",
       "0         0.000000          0.00000         0.000000         0.000000  \n",
       "1         0.003944          0.00536         0.586374        -0.083372  \n",
       "2         0.000000          0.00000         0.000000         0.000000  \n",
       "3         0.000000          0.00000         0.000000         0.000000  \n",
       "4         0.000000          0.00000         0.000000         0.000000  "
      ]
     },
     "execution_count": 11,
     "metadata": {},
     "output_type": "execute_result"
    }
   ],
   "source": [
    "print(\"Fraction of items without information added:\")\n",
    "print(items.loc[(items.item_name2num_1 == 0) & (items.item_name2num_2 == 0) &\n",
    "                (items.item_name2num_3 == 0) & (items.item_name2num_4 == 0)].shape[0]/items.shape[0])\n",
    "items.head(5)"
   ]
  },
  {
   "cell_type": "markdown",
   "metadata": {},
   "source": [
    "## Add base features"
   ]
  },
  {
   "cell_type": "code",
   "execution_count": null,
   "metadata": {},
   "outputs": [],
   "source": [
    "sales[\"item_rev_day\"] = sales[\"item_cnt_day\"] * sales[\"item_price\"]\n",
    "sales[\"date\"] = pd.to_datetime(sales[\"date\"], format=\"%d.%m.%Y\")\n",
    "sales[\"month\"] = sales[\"date\"].dt.month\n",
    "sales[\"item_price_med_all\"] = sales.groupby(\"item_id\").item_price.transform(np.median)\n",
    "sales[\"item_price_med\"] = sales.groupby([\"date_block_num\", \"item_id\"]).item_price.transform(np.median)\n",
    "assert sales.item_price_med_all.min() > 0\n",
    "sales[\"item_price_rel\"] = (sales[\"item_price_med\"] - sales[\"item_price_med_all\"]) / sales[\"item_price_med_all\"]"
   ]
  },
  {
   "cell_type": "code",
   "execution_count": null,
   "metadata": {},
   "outputs": [],
   "source": [
    "map_item_cat = items.loc[:, [\"item_id\", \"item_category_id\"]].drop_duplicates()\n",
    "map_cat = item_cat.loc[:, [\"item_category_id\", \"metacat\", \"subcat\"]].drop_duplicates()\n",
    "map_item_cat = map_item_cat.merge(map_cat, how=\"left\", on=\"item_category_id\")\n",
    "map_shop = shops.loc[:, [\"shop_id\", \"city\"]].drop_duplicates()\n",
    "\n",
    "sales = sales.merge(map_item_cat, how=\"left\", on=\"item_id\")\n",
    "sales = sales.merge(map_shop, how=\"left\", on=\"shop_id\")"
   ]
  },
  {
   "cell_type": "code",
   "execution_count": null,
   "metadata": {},
   "outputs": [],
   "source": [
    "# downcast to save space\n",
    "for c in [\"item_price\",\"item_rev_day\",\"item_price_med\",\"item_price_rel\",\"item_price_med_all\"]:\n",
    "    sales[c] = pd.to_numeric(sales[c], downcast=\"float\")\n",
    "\n",
    "for c in [\"date_block_num\",\"shop_id\",\"item_id\",\"item_cnt_day\",\"month\",\"item_category_id\",\"metacat\",\"subcat\",\"city\"]:\n",
    "    sales[c] = pd.to_numeric(sales[c], downcast=\"integer\")\n",
    "sales.dtypes"
   ]
  },
  {
   "cell_type": "markdown",
   "metadata": {},
   "source": [
    "## Complete shop_id x item_id combinations in each month"
   ]
  },
  {
   "cell_type": "code",
   "execution_count": null,
   "metadata": {},
   "outputs": [],
   "source": [
    "month_blocks = sales.date_block_num.unique()\n",
    "grid = []\n",
    "for m in month_blocks:\n",
    "    shop_ids = sales.loc[sales.date_block_num == m].shop_id.unique()\n",
    "    item_ids = sales.loc[sales.date_block_num == m].item_id.unique()\n",
    "    grid.append(np.array(list(product(*[shop_ids, item_ids, [m]])), dtype=\"int32\"))\n",
    "    \n",
    "test[\"date_block_num\"] = np.int8(34)\n",
    "grid.append(test.drop(columns=\"ID\"))\n",
    "\n",
    "grid = pd.DataFrame(np.vstack(grid), columns=[\"shop_id\", \"item_id\", \"date_block_num\"], dtype=np.int32)"
   ]
  },
  {
   "cell_type": "code",
   "execution_count": null,
   "metadata": {},
   "outputs": [],
   "source": [
    "# merge other features: median revenue (per item and globally), relative revenue, month\n",
    "map_price_med_all = sales.loc[:,[\"item_id\",\"item_price_med_all\"]].drop_duplicates()\n",
    "map_price = sales.loc[:,[\"date_block_num\",\"item_id\",\"item_price_med\",\"item_price_rel\"]].drop_duplicates()\n",
    "map_month = sales.loc[:,[\"date_block_num\",\"month\"]].drop_duplicates()\n",
    "grid = grid.merge(map_price_med_all, how=\"left\", on=\"item_id\")\n",
    "grid = grid.merge(map_price, how=\"left\", on=[\"date_block_num\",\"item_id\"])\n",
    "grid = grid.merge(map_month, how=\"left\", on=\"date_block_num\")\n",
    "grid.month.fillna(11, inplace=True)\n",
    "\n",
    "del map_price_med_all,map_price,map_month"
   ]
  },
  {
   "cell_type": "code",
   "execution_count": null,
   "metadata": {},
   "outputs": [],
   "source": [
    "# add item categories\n",
    "grid = grid.merge(map_item_cat, how=\"left\", on=\"item_id\")\n",
    "grid = grid.merge(map_shop, how=\"left\", on=\"shop_id\")"
   ]
  },
  {
   "cell_type": "code",
   "execution_count": null,
   "metadata": {},
   "outputs": [],
   "source": [
    "# add time-since-first-sale for each item\n",
    "grid[\"since_first\"] = 0\n",
    "found_first = {}\n",
    "# grid has date_block_num sorted in ascending order\n",
    "assert all(grid.date_block_num.diff().drop(index=0) >= 0)\n",
    "\n",
    "for index,row in grid.iterrows():\n",
    "    if not row.item_id in found_first:\n",
    "        found_first[row.item_id] = row.date_block_num\n",
    "    else:\n",
    "        grid.at[index,\"since_first\"] = row.date_block_num - found_first[row.item_id]"
   ]
  },
  {
   "cell_type": "code",
   "execution_count": null,
   "metadata": {},
   "outputs": [],
   "source": [
    "# add time-since-first-sale for each item in each shop\n",
    "grid[\"shop_since_first\"] = 0\n",
    "found_first = {}\n",
    "\n",
    "for index,row in grid.iterrows():\n",
    "    itemshop = \"{} {}\".format(row.item_id,row.shop_id)\n",
    "    if not itemshop in found_first:\n",
    "        found_first[itemshop] = row.date_block_num\n",
    "    else:\n",
    "        grid.at[index,\"shop_since_first\"] = row.date_block_num - found_first[itemshop]"
   ]
  },
  {
   "cell_type": "code",
   "execution_count": null,
   "metadata": {},
   "outputs": [],
   "source": [
    "grid.dtypes"
   ]
  },
  {
   "cell_type": "code",
   "execution_count": null,
   "metadata": {},
   "outputs": [],
   "source": [
    "grid[\"month\"] = pd.to_numeric(grid[\"month\"], downcast=\"integer\")"
   ]
  },
  {
   "cell_type": "code",
   "execution_count": null,
   "metadata": {},
   "outputs": [],
   "source": [
    "for c in grid.columns:\n",
    "    if \"int\" in grid[c].dtype.name:\n",
    "        grid[c] = pd.to_numeric(grid[c], downcast=\"integer\")\n",
    "    else:\n",
    "        grid[c] = pd.to_numeric(grid[c], downcast=\"float\")\n",
    "grid.dtypes"
   ]
  },
  {
   "cell_type": "code",
   "execution_count": null,
   "metadata": {},
   "outputs": [],
   "source": [
    "with open(os.path.join(INTERM_RES_FOLDER, \"preprocessing-grid\"), \"wb\") as f:\n",
    "    pickle.dump(grid, f)"
   ]
  },
  {
   "cell_type": "code",
   "execution_count": null,
   "metadata": {},
   "outputs": [],
   "source": [
    "with open(os.path.join(INTERM_RES_FOLDER, \"preprocessing-grid\"), \"rb\") as f:\n",
    "    grid = pickle.load(f)"
   ]
  },
  {
   "cell_type": "markdown",
   "metadata": {},
   "source": [
    "## Add aggregate features\n",
    "\n",
    "This is equivalent to out-of-fold mean encodings."
   ]
  },
  {
   "cell_type": "code",
   "execution_count": null,
   "metadata": {},
   "outputs": [],
   "source": [
    "# monthly volume and its standard deviation for each item in each shop\n",
    "gp = sales.groupby([\"shop_id\", \"item_id\", \"date_block_num\"], as_index=False).agg({\"item_cnt_day\": [\"sum\",\"std\"]})\n",
    "# flatten multi-index\n",
    "gp.columns = [level1+level2 for level1,level2 in gp.columns.to_native_types()]\n",
    "gp.rename(columns={\"item_cnt_daysum\": \"item_cnt_month\",\n",
    "                   \"item_cnt_daystd\": \"itemshop_sd\"}, inplace=True)\n",
    "sales_all = grid.merge(gp, how=\"left\", on=[\"shop_id\", \"item_id\", \"date_block_num\"]).fillna(0)"
   ]
  },
  {
   "cell_type": "code",
   "execution_count": null,
   "metadata": {},
   "outputs": [],
   "source": [
    "# monthly volume and its standard deviation for each shop\n",
    "gp = sales.groupby([\"shop_id\", \"date_block_num\"], as_index=False).agg({\"item_cnt_day\": [\"sum\",\"std\"]})\n",
    "# flatten multi-index\n",
    "gp.columns = [level1+level2 for level1,level2 in gp.columns.to_native_types()]\n",
    "gp.rename(columns={\"item_cnt_daysum\": \"shop_agg\", \"item_cnt_daystd\": \"shop_sd\"}, inplace=True)\n",
    "sales_all = sales_all.merge(gp, how=\"left\", on=[\"shop_id\", \"date_block_num\"]).fillna(0)"
   ]
  },
  {
   "cell_type": "code",
   "execution_count": null,
   "metadata": {},
   "outputs": [],
   "source": [
    "# monthly volume and its standard deviation for each item\n",
    "gp = sales.groupby([\"item_id\", \"date_block_num\"], as_index=False).agg({\"item_cnt_day\": [\"sum\",\"std\"]})\n",
    "gp.columns = [level1+level2 for level1,level2 in gp.columns.to_native_types()]\n",
    "gp.rename(columns={\"item_cnt_daysum\": \"item_agg\", \"item_cnt_daystd\": \"item_sd\"}, inplace=True)\n",
    "sales_all = sales_all.merge(gp, how=\"left\", on=[\"item_id\", \"date_block_num\"]).fillna(0)"
   ]
  },
  {
   "cell_type": "code",
   "execution_count": null,
   "metadata": {},
   "outputs": [],
   "source": [
    "# monthly volume and its standard deviation for each sub-category in each shop\n",
    "gp = sales.groupby([\"shop_id\", \"subcat\", \"date_block_num\"], as_index=False).agg({\"item_cnt_day\": [\"sum\",\"std\"]})\n",
    "gp.columns = [level1+level2 for level1,level2 in gp.columns.to_native_types()]\n",
    "gp.rename(columns={\"item_cnt_daysum\": \"shopsubcat_agg\", \"item_cnt_daystd\": \"shopsubcat_sd\"}, inplace=True)\n",
    "sales_all = sales_all.merge(gp, how=\"left\", on=[\"shop_id\", \"subcat\", \"date_block_num\"]).fillna(0)"
   ]
  },
  {
   "cell_type": "code",
   "execution_count": null,
   "metadata": {},
   "outputs": [],
   "source": [
    "# monthly volume for each category id in each shop\n",
    "gp = sales.groupby([\"shop_id\", \"item_category_id\", \"date_block_num\"], as_index=False).agg({\"item_cnt_day\": \"sum\"})\n",
    "gp.rename(columns={\"item_cnt_day\": \"shopcat_agg\"}, inplace=True)\n",
    "sales_all = sales_all.merge(gp, how=\"left\", on=[\"shop_id\", \"item_category_id\", \"date_block_num\"]).fillna(0)"
   ]
  },
  {
   "cell_type": "code",
   "execution_count": null,
   "metadata": {},
   "outputs": [],
   "source": [
    "# monthly volume for each meta-category in each shop\n",
    "gp = sales.groupby([\"shop_id\", \"metacat\", \"date_block_num\"], as_index=False).agg({\"item_cnt_day\": \"sum\"})\n",
    "gp.rename(columns={\"item_cnt_day\": \"shopmetacat_agg\"}, inplace=True)\n",
    "sales_all = sales_all.merge(gp, how=\"left\", on=[\"shop_id\", \"metacat\", \"date_block_num\"]).fillna(0)"
   ]
  },
  {
   "cell_type": "code",
   "execution_count": null,
   "metadata": {},
   "outputs": [],
   "source": [
    "# monthly volume for each category_id\n",
    "gp = sales.groupby([\"item_category_id\", \"date_block_num\"], as_index=False).agg({\"item_cnt_day\": \"sum\"})\n",
    "gp.rename(columns={\"item_cnt_day\": \"cat_agg\"}, inplace=True)\n",
    "sales_all = sales_all.merge(gp, how=\"left\", on=[\"item_category_id\", \"date_block_num\"]).fillna(0)"
   ]
  },
  {
   "cell_type": "code",
   "execution_count": null,
   "metadata": {},
   "outputs": [],
   "source": [
    "# monthly volume for each meta-category\n",
    "gp = sales.groupby([\"metacat\", \"date_block_num\"], as_index=False).agg({\"item_cnt_day\": \"sum\"})\n",
    "gp.rename(columns={\"item_cnt_day\": \"metacat_agg\"}, inplace=True)\n",
    "sales_all = sales_all.merge(gp, how=\"left\", on=[\"metacat\", \"date_block_num\"]).fillna(0)"
   ]
  },
  {
   "cell_type": "code",
   "execution_count": null,
   "metadata": {},
   "outputs": [],
   "source": [
    "# monthly volume for each sub-category\n",
    "gp = sales.groupby([\"subcat\", \"date_block_num\"], as_index=False).agg({\"item_cnt_day\": \"sum\"})\n",
    "gp.rename(columns={\"item_cnt_day\": \"subcat_agg\"}, inplace=True)\n",
    "sales_all = sales_all.merge(gp, how=\"left\", on=[\"subcat\", \"date_block_num\"]).fillna(0)"
   ]
  },
  {
   "cell_type": "code",
   "execution_count": null,
   "metadata": {},
   "outputs": [],
   "source": [
    "# montly volume for each item in each city\n",
    "gp = sales.groupby([\"item_id\", \"city\", \"date_block_num\"], as_index=False).agg({\"item_cnt_day\": \"sum\"})\n",
    "gp.rename(columns={\"item_cnt_day\": \"itemcity_agg\"}, inplace=True)\n",
    "sales_all = sales_all.merge(gp, how=\"left\", on=[\"item_id\", \"city\", \"date_block_num\"]).fillna(0)"
   ]
  },
  {
   "cell_type": "code",
   "execution_count": null,
   "metadata": {},
   "outputs": [],
   "source": [
    "# monthly volume for each sub-category in each city\n",
    "gp = sales.groupby([\"subcat\", \"city\", \"date_block_num\"], as_index=False).agg({\"item_cnt_day\": \"sum\"})\n",
    "gp.rename(columns={\"item_cnt_day\": \"subcatcity_agg\"}, inplace=True)\n",
    "sales_all = sales_all.merge(gp, how=\"left\", on=[\"subcat\", \"city\", \"date_block_num\"]).fillna(0)"
   ]
  },
  {
   "cell_type": "code",
   "execution_count": null,
   "metadata": {},
   "outputs": [],
   "source": [
    "# monthly revenue for each item in each shop\n",
    "gp = sales.groupby([\"item_id\",\"shop_id\",\"date_block_num\"], as_index=False).agg({\"item_rev_day\":\"sum\"})\n",
    "gp.rename(columns={\"item_rev_day\": \"item_rev_month\"}, inplace=True)\n",
    "sales_all = sales_all.merge(gp, how=\"left\", on=[\"item_id\",\"shop_id\",\"date_block_num\"]).fillna(0)"
   ]
  },
  {
   "cell_type": "code",
   "execution_count": null,
   "metadata": {},
   "outputs": [],
   "source": [
    "# reduce size in memory: downcast\n",
    "cols_int = [\"item_cnt_month\",\"shop_agg\",\"item_agg\",\"shopsubcat_agg\",\"shopcat_agg\",\"shopmetacat_agg\",\"cat_agg\",\n",
    "            \"metacat_agg\",\"subcat_agg\",\"itemcity_agg\",\"subcatcity_agg\"]\n",
    "cols_float = [\"itemshop_sd\",\"shop_sd\",\"item_sd\",\"shopsubcat_sd\",\"item_rev_month\"]\n",
    "for c in cols_int:\n",
    "    sales_all[c] = pd.to_numeric(sales_all[c], downcast=\"integer\")\n",
    "for c in cols_float:\n",
    "    sales_all[c] = pd.to_numeric(sales_all[c], downcast=\"float\")\n",
    "    \n",
    "del gp, grid"
   ]
  },
  {
   "cell_type": "code",
   "execution_count": null,
   "metadata": {},
   "outputs": [],
   "source": [
    "sales_all.dtypes"
   ]
  },
  {
   "cell_type": "code",
   "execution_count": null,
   "metadata": {},
   "outputs": [],
   "source": [
    "sales_all"
   ]
  },
  {
   "cell_type": "code",
   "execution_count": null,
   "metadata": {},
   "outputs": [],
   "source": [
    "sales_all.columns"
   ]
  },
  {
   "cell_type": "code",
   "execution_count": null,
   "metadata": {},
   "outputs": [],
   "source": [
    "with open(os.path.join(INTERM_RES_FOLDER, \"preprocessing-sales_all\"), \"wb\") as f:\n",
    "    pickle.dump(sales_all, f)"
   ]
  },
  {
   "cell_type": "code",
   "execution_count": 6,
   "metadata": {},
   "outputs": [],
   "source": [
    "with open(os.path.join(INTERM_RES_FOLDER, \"preprocessing-sales_all\"), \"rb\") as f:\n",
    "    sales_all = pickle.load(f)"
   ]
  },
  {
   "cell_type": "code",
   "execution_count": 7,
   "metadata": {},
   "outputs": [],
   "source": [
    "def add_lagged_feature(df, feats, lags, coltype):\n",
    "    feats_index = [\"date_block_num\",\"shop_id\",\"item_id\"]\n",
    "    for l in lags:\n",
    "        feats_lagged = sales_all.loc[:, feats_index+feats].copy()\n",
    "        feats_lagged[\"date_block_num\"] = feats_lagged[\"date_block_num\"] + l\n",
    "        renamer = lambda x: \"{}_lag_{}\".format(x, l) if x in feats else x\n",
    "        feats_lagged.rename(columns=renamer, inplace=True)\n",
    "        df = df.merge(feats_lagged, how=\"left\", on=feats_index).fillna(0)\n",
    "\n",
    "        for c in feats:\n",
    "            c_lagged = renamer(c)\n",
    "            df[c_lagged] = pd.to_numeric(df[c_lagged], downcast=coltype)\n",
    "            \n",
    "    df.drop(columns=feats, inplace=True)\n",
    "    del feats_lagged\n",
    "            \n",
    "    return df\n",
    "            "
   ]
  },
  {
   "cell_type": "code",
   "execution_count": 8,
   "metadata": {},
   "outputs": [],
   "source": [
    "feats_to_drop = [\"itemshop_sd\",\"shop_sd\",\"item_sd\",\"shopsubcat_sd\",\"item_price_med\",\n",
    "                 \"shopmetacat_agg\",\"subcatcity_agg\",\"shopsubcat_agg\",\"item_rev_month\",\n",
    "                 \"item_price_med_all\",\"shop_since_first\"]\n",
    "\n",
    "sales_all.drop(columns=feats_to_drop, inplace=True)\n",
    "\n",
    "sales_all = add_lagged_feature(sales_all, [\"item_cnt_month\"], [0,1,2,3,12], \"integer\")# keep target\n",
    "sales_all.rename(columns={\"item_cnt_month_lag_0\":\"item_cnt_month\"})\n",
    "sales_all = add_lagged_feature(sales_all, [\"shop_agg\",\"item_agg\"], [1,2,3,12], \"integer\")\n",
    "sales_all = add_lagged_feature(sales_all, [\"shopcat_agg\",\"cat_agg\",\"metacat_agg\",\"subcat_agg\",\"itemcity_agg\"],\n",
    "                               [1], \"integer\")\n",
    "sales_all = add_lagged_feature(sales_all, [\"item_price_rel\"], [1], \"float\")"
   ]
  },
  {
   "cell_type": "code",
   "execution_count": 9,
   "metadata": {
    "scrolled": true
   },
   "outputs": [
    {
     "data": {
      "text/html": [
       "<div>\n",
       "<style scoped>\n",
       "    .dataframe tbody tr th:only-of-type {\n",
       "        vertical-align: middle;\n",
       "    }\n",
       "\n",
       "    .dataframe tbody tr th {\n",
       "        vertical-align: top;\n",
       "    }\n",
       "\n",
       "    .dataframe thead th {\n",
       "        text-align: right;\n",
       "    }\n",
       "</style>\n",
       "<table border=\"1\" class=\"dataframe\">\n",
       "  <thead>\n",
       "    <tr style=\"text-align: right;\">\n",
       "      <th></th>\n",
       "      <th>shop_id</th>\n",
       "      <th>item_id</th>\n",
       "      <th>date_block_num</th>\n",
       "      <th>month</th>\n",
       "      <th>item_category_id</th>\n",
       "      <th>metacat</th>\n",
       "      <th>subcat</th>\n",
       "      <th>city</th>\n",
       "      <th>since_first</th>\n",
       "      <th>item_cnt_month_lag_0</th>\n",
       "      <th>...</th>\n",
       "      <th>shop_agg_lag_3</th>\n",
       "      <th>item_agg_lag_3</th>\n",
       "      <th>shop_agg_lag_12</th>\n",
       "      <th>item_agg_lag_12</th>\n",
       "      <th>shopcat_agg_lag_1</th>\n",
       "      <th>cat_agg_lag_1</th>\n",
       "      <th>metacat_agg_lag_1</th>\n",
       "      <th>subcat_agg_lag_1</th>\n",
       "      <th>itemcity_agg_lag_1</th>\n",
       "      <th>item_price_rel_lag_1</th>\n",
       "    </tr>\n",
       "  </thead>\n",
       "  <tbody>\n",
       "    <tr>\n",
       "      <th>0</th>\n",
       "      <td>59</td>\n",
       "      <td>22154</td>\n",
       "      <td>0</td>\n",
       "      <td>1</td>\n",
       "      <td>37</td>\n",
       "      <td>11</td>\n",
       "      <td>1</td>\n",
       "      <td>30</td>\n",
       "      <td>0</td>\n",
       "      <td>1</td>\n",
       "      <td>...</td>\n",
       "      <td>0</td>\n",
       "      <td>0</td>\n",
       "      <td>0</td>\n",
       "      <td>0</td>\n",
       "      <td>0</td>\n",
       "      <td>0</td>\n",
       "      <td>0</td>\n",
       "      <td>0</td>\n",
       "      <td>0</td>\n",
       "      <td>0.0</td>\n",
       "    </tr>\n",
       "    <tr>\n",
       "      <th>1</th>\n",
       "      <td>59</td>\n",
       "      <td>2552</td>\n",
       "      <td>0</td>\n",
       "      <td>1</td>\n",
       "      <td>58</td>\n",
       "      <td>13</td>\n",
       "      <td>26</td>\n",
       "      <td>30</td>\n",
       "      <td>0</td>\n",
       "      <td>0</td>\n",
       "      <td>...</td>\n",
       "      <td>0</td>\n",
       "      <td>0</td>\n",
       "      <td>0</td>\n",
       "      <td>0</td>\n",
       "      <td>0</td>\n",
       "      <td>0</td>\n",
       "      <td>0</td>\n",
       "      <td>0</td>\n",
       "      <td>0</td>\n",
       "      <td>0.0</td>\n",
       "    </tr>\n",
       "  </tbody>\n",
       "</table>\n",
       "<p>2 rows × 28 columns</p>\n",
       "</div>"
      ],
      "text/plain": [
       "   shop_id  item_id  date_block_num  month  item_category_id  metacat  subcat  \\\n",
       "0       59    22154               0      1                37       11       1   \n",
       "1       59     2552               0      1                58       13      26   \n",
       "\n",
       "   city  since_first  item_cnt_month_lag_0  ...  shop_agg_lag_3  \\\n",
       "0    30            0                     1  ...               0   \n",
       "1    30            0                     0  ...               0   \n",
       "\n",
       "   item_agg_lag_3  shop_agg_lag_12  item_agg_lag_12  shopcat_agg_lag_1  \\\n",
       "0               0                0                0                  0   \n",
       "1               0                0                0                  0   \n",
       "\n",
       "   cat_agg_lag_1  metacat_agg_lag_1  subcat_agg_lag_1  itemcity_agg_lag_1  \\\n",
       "0              0                  0                 0                   0   \n",
       "1              0                  0                 0                   0   \n",
       "\n",
       "   item_price_rel_lag_1  \n",
       "0                   0.0  \n",
       "1                   0.0  \n",
       "\n",
       "[2 rows x 28 columns]"
      ]
     },
     "execution_count": 9,
     "metadata": {},
     "output_type": "execute_result"
    }
   ],
   "source": [
    "sales_all.head(2)"
   ]
  },
  {
   "cell_type": "code",
   "execution_count": 10,
   "metadata": {},
   "outputs": [],
   "source": [
    "# remove first year as lagged features are incomplete\n",
    "sales_all = sales_all.loc[sales_all.date_block_num >= 12]\n",
    "sales_all.dtypes"
   ]
  },
  {
   "cell_type": "code",
   "execution_count": 15,
   "metadata": {},
   "outputs": [],
   "source": [
    "with open(os.path.join(INTERM_RES_FOLDER, \"preprocessing-sales_all-lags\"), \"wb\") as f:\n",
    "    pickle.dump(sales_all, f)"
   ]
  },
  {
   "cell_type": "code",
   "execution_count": null,
   "metadata": {},
   "outputs": [],
   "source": [
    "with open(os.path.join(INTERM_RES_FOLDER, \"preprocessing-sales_all-lags\"), \"rb\") as f:\n",
    "    sales_all = pickle.dump(f)"
   ]
  },
  {
   "cell_type": "markdown",
   "metadata": {},
   "source": [
    "# Create train, validation and test sets\n",
    "\n",
    "We want to use an ensemble approach, where the **level-1 train** set consists of the first part of the time series (**20 blocks**, from 12 to 31), to be validated on blocks 32 and 33. The **level-2 train** set (**10 blocks** of meta-features, from 23 to 32), to be validated on the 33rd block. The test set is the 34th block.\n",
    "\n",
    "The stacking structure goes as follows,\n",
    "\n",
    "1. first-level models are validated using the last 2 blocks of the train set iteratively (K-fold validation through time)\n",
    "2. first-level models are then fitted to train set blocks (train on 12-22, predict 23, then train on 12-23, predict 24, an so on) and their predictions computed for the level-2 train blocks; these predictions are the _meta-features_\n",
    "3. the meta-model is fitted to the first 9 meta-feature blocks and validated using the last meta-feature block\n",
    "4. test meta-features are predicted from first-level models fitted to all train blocks; predictions for the test set are computed from the meta-model fitted to the 10 meta-feature blocks."
   ]
  },
  {
   "cell_type": "code",
   "execution_count": 16,
   "metadata": {},
   "outputs": [],
   "source": [
    "Xall = sales_all.drop(columns=\"item_cnt_month\")\n",
    "yall = sales_all.loc[:, \"item_cnt_month\"].values"
   ]
  },
  {
   "cell_type": "code",
   "execution_count": 17,
   "metadata": {},
   "outputs": [],
   "source": [
    "with open(os.path.join(INTERM_RES_FOLDER, \"sets.p\"), \"wb\") as f:\n",
    "    pickle.dump((Xall, yall), f)"
   ]
  }
 ],
 "metadata": {
  "kernelspec": {
   "display_name": "Python 3",
   "language": "python",
   "name": "python3"
  },
  "language_info": {
   "codemirror_mode": {
    "name": "ipython",
    "version": 3
   },
   "file_extension": ".py",
   "mimetype": "text/x-python",
   "name": "python",
   "nbconvert_exporter": "python",
   "pygments_lexer": "ipython3",
   "version": "3.6.9"
  }
 },
 "nbformat": 4,
 "nbformat_minor": 2
}
