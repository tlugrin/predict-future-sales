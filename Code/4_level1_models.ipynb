{
 "cells": [
  {
   "cell_type": "markdown",
   "metadata": {},
   "source": [
    "# First-level models\n",
    "\n",
    "Train diverse models for the first level of a stacking approach.\n",
    "\n",
    "1. linear regression\n",
    "1. k-nearest neighbours on PCA features\n",
    "1. gradient boosting regression\n",
    "1. neural network regression"
   ]
  },
  {
   "cell_type": "code",
   "execution_count": 1,
   "metadata": {},
   "outputs": [],
   "source": [
    "import pandas as pd\n",
    "import numpy as np\n",
    "import pickle\n",
    "import os\n",
    "from sklearn import linear_model\n",
    "from sklearn import decomposition\n",
    "from sklearn import preprocessing\n",
    "from sklearn import neighbors\n",
    "from sklearn import metrics\n",
    "from sklearn import neural_network\n",
    "from catboost import CatBoostRegressor\n",
    "from catboost import Pool\n",
    "import itertools"
   ]
  },
  {
   "cell_type": "code",
   "execution_count": 2,
   "metadata": {},
   "outputs": [],
   "source": [
    "DATA_FOLDER = '../Data/'\n",
    "INTERM_RES_FOLDER = \"../Intermediary results\"\n",
    "with open(os.path.join(INTERM_RES_FOLDER, \"sets.p\"), \"rb\") as f:\n",
    "    Xall,yall = pickle.load(f)"
   ]
  },
  {
   "cell_type": "code",
   "execution_count": 3,
   "metadata": {},
   "outputs": [],
   "source": [
    "months = Xall.date_block_num\n",
    "level1_valid_blocks = [32,33]# September and October 2015\n",
    "level2_blocks = [24,25,26,27,28,29,30,31,32,33,34]# 10 months worth of meta-features, and test\n",
    "months_level2 = months.loc[months.isin(level2_blocks)]\n",
    "y_level2 = yall[months.isin(level2_blocks)]\n",
    "X_level2 = np.zeros([y_level2.shape[0], 4])"
   ]
  },
  {
   "cell_type": "markdown",
   "metadata": {},
   "source": [
    "## 1. Linear regression\n",
    "\n",
    "### Validate on last two months\n",
    "\n",
    "We also tried to transform the response variable to the log scale to reduce the leverage of large numbers, clipping only predictions, but it appears that performing the fit with the original response is much more efficient."
   ]
  },
  {
   "cell_type": "code",
   "execution_count": 5,
   "metadata": {},
   "outputs": [
    {
     "name": "stdout",
     "output_type": "stream",
     "text": [
      "0\n",
      "1\n"
     ]
    }
   ],
   "source": [
    "regul = np.linspace(0.1, 1, 10)\n",
    "regr_mse_scores = pd.DataFrame({\"block 32\": np.zeros_like(regul),\n",
    "                                \"least important 32\": np.empty_like(regul, dtype=\"str\"),\n",
    "                                \"most important 32\": np.empty_like(regul, dtype=\"str\"),\n",
    "                                \"block 33\": np.zeros_like(regul),\n",
    "                                \"least important 33\": np.empty_like(regul, dtype=\"str\"),\n",
    "                                \"most important 33\": np.empty_like(regul, dtype=\"str\")})\n",
    "\n",
    "for i,valid in enumerate(level1_valid_blocks):\n",
    "    print(i)\n",
    "    for j,alpha in enumerate(regul):\n",
    "        Xtrain = Xall.loc[months < valid]\n",
    "        #ytrain = np.log(1+yall[months < valid].clip(0, None))\n",
    "        ytrain = yall[months < valid]\n",
    "        Xvalid = Xall.loc[months == valid]\n",
    "        yvalid = yall[months == valid].clip(0, 20)\n",
    "        \n",
    "        regr = linear_model.Ridge(alpha=alpha, normalize=True)\n",
    "        regr.fit(Xtrain, ytrain)\n",
    "        #regr_pred = (np.exp(regr.predict(Xvalid))-1).clip(0,20)\n",
    "        regr_pred = regr.predict(Xvalid).clip(0,20)\n",
    "        regr_mse_scores.at[j,\"block \"+str(valid)] = metrics.mean_squared_error(y_true=yvalid, y_pred=regr_pred)\n",
    "        regr_mse_scores.at[j,\"least important \"+str(valid)] = Xtrain.columns[np.argmin(np.abs(regr.coef_))]\n",
    "        regr_mse_scores.at[j, \"most important \"+str(valid)] = Xtrain.columns[np.argmax(np.abs(regr.coef_))]\n",
    "        \n",
    "del Xtrain,ytrain,Xvalid,yvalid,regr_pred"
   ]
  },
  {
   "cell_type": "code",
   "execution_count": 6,
   "metadata": {},
   "outputs": [
    {
     "data": {
      "text/html": [
       "<div>\n",
       "<style scoped>\n",
       "    .dataframe tbody tr th:only-of-type {\n",
       "        vertical-align: middle;\n",
       "    }\n",
       "\n",
       "    .dataframe tbody tr th {\n",
       "        vertical-align: top;\n",
       "    }\n",
       "\n",
       "    .dataframe thead th {\n",
       "        text-align: right;\n",
       "    }\n",
       "</style>\n",
       "<table border=\"1\" class=\"dataframe\">\n",
       "  <thead>\n",
       "    <tr style=\"text-align: right;\">\n",
       "      <th></th>\n",
       "      <th>block 32</th>\n",
       "      <th>least important 32</th>\n",
       "      <th>most important 32</th>\n",
       "      <th>block 33</th>\n",
       "      <th>least important 33</th>\n",
       "      <th>most important 33</th>\n",
       "    </tr>\n",
       "  </thead>\n",
       "  <tbody>\n",
       "    <tr>\n",
       "      <th>0</th>\n",
       "      <td>0.967272</td>\n",
       "      <td>cat_agg_lag_1</td>\n",
       "      <td>item_cnt_month_lag_1</td>\n",
       "      <td>0.991619</td>\n",
       "      <td>cat_agg_lag_1</td>\n",
       "      <td>item_cnt_month_lag_1</td>\n",
       "    </tr>\n",
       "    <tr>\n",
       "      <th>1</th>\n",
       "      <td>0.967424</td>\n",
       "      <td>item_id</td>\n",
       "      <td>item_cnt_month_lag_1</td>\n",
       "      <td>0.983112</td>\n",
       "      <td>item_id</td>\n",
       "      <td>item_cnt_month_lag_1</td>\n",
       "    </tr>\n",
       "    <tr>\n",
       "      <th>2</th>\n",
       "      <td>0.968527</td>\n",
       "      <td>item_id</td>\n",
       "      <td>item_cnt_month_lag_1</td>\n",
       "      <td>0.977815</td>\n",
       "      <td>item_id</td>\n",
       "      <td>item_cnt_month_lag_1</td>\n",
       "    </tr>\n",
       "    <tr>\n",
       "      <th>3</th>\n",
       "      <td>0.970038</td>\n",
       "      <td>item_id</td>\n",
       "      <td>item_cnt_month_lag_1</td>\n",
       "      <td>0.974171</td>\n",
       "      <td>item_id</td>\n",
       "      <td>item_cnt_month_lag_1</td>\n",
       "    </tr>\n",
       "    <tr>\n",
       "      <th>4</th>\n",
       "      <td>0.971416</td>\n",
       "      <td>item_id</td>\n",
       "      <td>item_cnt_month_lag_1</td>\n",
       "      <td>0.971743</td>\n",
       "      <td>item_id</td>\n",
       "      <td>item_cnt_month_lag_1</td>\n",
       "    </tr>\n",
       "    <tr>\n",
       "      <th>5</th>\n",
       "      <td>0.972626</td>\n",
       "      <td>item_id</td>\n",
       "      <td>item_cnt_month_lag_1</td>\n",
       "      <td>0.970026</td>\n",
       "      <td>item_id</td>\n",
       "      <td>item_cnt_month_lag_1</td>\n",
       "    </tr>\n",
       "    <tr>\n",
       "      <th>6</th>\n",
       "      <td>0.973805</td>\n",
       "      <td>item_id</td>\n",
       "      <td>item_cnt_month_lag_1</td>\n",
       "      <td>0.968895</td>\n",
       "      <td>item_id</td>\n",
       "      <td>item_cnt_month_lag_1</td>\n",
       "    </tr>\n",
       "    <tr>\n",
       "      <th>7</th>\n",
       "      <td>0.975030</td>\n",
       "      <td>item_id</td>\n",
       "      <td>item_cnt_month_lag_1</td>\n",
       "      <td>0.968220</td>\n",
       "      <td>item_id</td>\n",
       "      <td>item_cnt_month_lag_1</td>\n",
       "    </tr>\n",
       "    <tr>\n",
       "      <th>8</th>\n",
       "      <td>0.976294</td>\n",
       "      <td>item_id</td>\n",
       "      <td>item_cnt_month_lag_1</td>\n",
       "      <td>0.967833</td>\n",
       "      <td>item_id</td>\n",
       "      <td>item_cnt_month_lag_1</td>\n",
       "    </tr>\n",
       "    <tr>\n",
       "      <th>9</th>\n",
       "      <td>0.977422</td>\n",
       "      <td>item_id</td>\n",
       "      <td>item_cnt_month_lag_1</td>\n",
       "      <td>0.967701</td>\n",
       "      <td>item_id</td>\n",
       "      <td>item_cnt_month_lag_1</td>\n",
       "    </tr>\n",
       "  </tbody>\n",
       "</table>\n",
       "</div>"
      ],
      "text/plain": [
       "   block 32 least important 32     most important 32  block 33  \\\n",
       "0  0.967272      cat_agg_lag_1  item_cnt_month_lag_1  0.991619   \n",
       "1  0.967424            item_id  item_cnt_month_lag_1  0.983112   \n",
       "2  0.968527            item_id  item_cnt_month_lag_1  0.977815   \n",
       "3  0.970038            item_id  item_cnt_month_lag_1  0.974171   \n",
       "4  0.971416            item_id  item_cnt_month_lag_1  0.971743   \n",
       "5  0.972626            item_id  item_cnt_month_lag_1  0.970026   \n",
       "6  0.973805            item_id  item_cnt_month_lag_1  0.968895   \n",
       "7  0.975030            item_id  item_cnt_month_lag_1  0.968220   \n",
       "8  0.976294            item_id  item_cnt_month_lag_1  0.967833   \n",
       "9  0.977422            item_id  item_cnt_month_lag_1  0.967701   \n",
       "\n",
       "  least important 33     most important 33  \n",
       "0      cat_agg_lag_1  item_cnt_month_lag_1  \n",
       "1            item_id  item_cnt_month_lag_1  \n",
       "2            item_id  item_cnt_month_lag_1  \n",
       "3            item_id  item_cnt_month_lag_1  \n",
       "4            item_id  item_cnt_month_lag_1  \n",
       "5            item_id  item_cnt_month_lag_1  \n",
       "6            item_id  item_cnt_month_lag_1  \n",
       "7            item_id  item_cnt_month_lag_1  \n",
       "8            item_id  item_cnt_month_lag_1  \n",
       "9            item_id  item_cnt_month_lag_1  "
      ]
     },
     "execution_count": 6,
     "metadata": {},
     "output_type": "execute_result"
    }
   ],
   "source": [
    "regr_mse_scores"
   ]
  },
  {
   "cell_type": "code",
   "execution_count": 8,
   "metadata": {},
   "outputs": [
    {
     "data": {
      "text/plain": [
       "[('shop_id', 0.0002748671112741864),\n",
       " ('item_id', 3.3970773415445556e-07),\n",
       " ('date_block_num', 0.00035772372195863947),\n",
       " ('month', 0.005889112108304929),\n",
       " ('item_category_id', -0.0004957882509574599),\n",
       " ('metacat', -0.0041148246091521215),\n",
       " ('subcat', 0.0002637139036240753),\n",
       " ('city', 0.0004927774648293156),\n",
       " ('since_first', -0.005697193368909096),\n",
       " ('item_cnt_month_lag_1', 0.16871769017239266),\n",
       " ('item_cnt_month_lag_2', 0.1064904949388695),\n",
       " ('item_cnt_month_lag_3', 0.10005820003025565),\n",
       " ('item_cnt_month_lag_12', 0.11694755942827306),\n",
       " ('shop_agg_lag_1', 1.4152784608327676e-05),\n",
       " ('item_agg_lag_1', 0.0018604115347876141),\n",
       " ('shop_agg_lag_2', -4.725738283873196e-06),\n",
       " ('item_agg_lag_2', 0.0008849268222470071),\n",
       " ('shop_agg_lag_3', -6.3499346089828955e-06),\n",
       " ('item_agg_lag_3', 0.0009642754027430102),\n",
       " ('shop_agg_lag_12', -3.646262530061297e-06),\n",
       " ('item_agg_lag_12', 0.0010483977805776686),\n",
       " ('shopcat_agg_lag_1', 0.00016211374111749734),\n",
       " ('cat_agg_lag_1', -2.478941314968042e-06),\n",
       " ('metacat_agg_lag_1', -2.768997157786079e-06),\n",
       " ('subcat_agg_lag_1', -2.8834641554910886e-06),\n",
       " ('itemcity_agg_lag_1', 0.014220252773998009),\n",
       " ('item_price_rel_lag_1', -1.509330028284712e-05)]"
      ]
     },
     "execution_count": 8,
     "metadata": {},
     "output_type": "execute_result"
    }
   ],
   "source": [
    "list(zip(Xall.columns,regr.coef_))"
   ]
  },
  {
   "cell_type": "code",
   "execution_count": 5,
   "metadata": {},
   "outputs": [],
   "source": [
    "best_regul = 0.8# weighing block 33 more"
   ]
  },
  {
   "cell_type": "markdown",
   "metadata": {},
   "source": [
    "### Predict train meta-features"
   ]
  },
  {
   "cell_type": "code",
   "execution_count": 6,
   "metadata": {
    "scrolled": true
   },
   "outputs": [
    {
     "name": "stdout",
     "output_type": "stream",
     "text": [
      "24\n",
      "25\n",
      "26\n",
      "27\n",
      "28\n",
      "29\n",
      "30\n",
      "31\n",
      "32\n",
      "33\n",
      "34\n"
     ]
    }
   ],
   "source": [
    "for meta_block in level2_blocks:\n",
    "    print(meta_block)\n",
    "    Xtrain = Xall.loc[months < meta_block]\n",
    "    ytrain = yall[months < meta_block]\n",
    "    Xmeta = Xall.loc[months == meta_block]\n",
    "    \n",
    "    regr = linear_model.Ridge(alpha=best_regul, normalize=True)\n",
    "    regr.fit(Xtrain,ytrain)\n",
    "    ymeta_regr = regr.predict(Xmeta).clip(0,20)\n",
    "    \n",
    "    X_level2[months_level2 == meta_block,0] = ymeta_regr"
   ]
  },
  {
   "cell_type": "markdown",
   "metadata": {},
   "source": [
    "### Predict test meta-features"
   ]
  },
  {
   "cell_type": "code",
   "execution_count": 34,
   "metadata": {},
   "outputs": [],
   "source": [
    "Xtrain = Xall.loc[months < 34]\n",
    "ytrain = yall[months < 34]\n",
    "Xtest = Xall.loc[months == 34]\n",
    "\n",
    "regr = linear_model.Ridge(alpha=best_regul, normalize=True)\n",
    "regr.fit(Xtrain, ytrain)\n",
    "regr_pred = regr.predict(Xtest).clip(0,20)"
   ]
  },
  {
   "cell_type": "code",
   "execution_count": 54,
   "metadata": {},
   "outputs": [],
   "source": [
    "# validate on public leaderboard\n",
    "submission = Xtest.loc[:,[\"shop_id\",\"item_id\"]]\n",
    "submission[\"item_cnt_month\"] = regr_pred\n",
    "submission.loc[submission.shop_id == 11, \"shop_id\"] = 10\n",
    "test = pd.read_csv(os.path.join(DATA_FOLDER, 'test.csv.gz'))\n",
    "submission = test.merge(submission, how=\"left\", on=[\"shop_id\",\"item_id\"])\n",
    "submission.drop(columns=[\"shop_id\",\"item_id\"], inplace=True)\n",
    "submission.to_csv(\"../Submissions/submission_regr.csv\", index=False)# 1.0717"
   ]
  },
  {
   "cell_type": "markdown",
   "metadata": {},
   "source": [
    "## 2. kNN on PCA"
   ]
  },
  {
   "cell_type": "markdown",
   "metadata": {},
   "source": [
    "### Validate on last two months"
   ]
  },
  {
   "cell_type": "code",
   "execution_count": 8,
   "metadata": {},
   "outputs": [
    {
     "name": "stdout",
     "output_type": "stream",
     "text": [
      "Block 32, 4 components\n",
      "Proportion of variance explained: 0.9799331556136279\n",
      "Block 32, 5 components\n",
      "Proportion of variance explained: 0.9890715041179821\n",
      "Block 32, 6 components\n",
      "Proportion of variance explained: 0.9934352438902337\n",
      "Block 33, 4 components\n",
      "Proportion of variance explained: 0.9800433503120071\n",
      "Block 33, 5 components\n",
      "Proportion of variance explained: 0.9891598489280494\n",
      "Block 33, 6 components\n",
      "Proportion of variance explained: 0.9934950155919271\n"
     ]
    }
   ],
   "source": [
    "pca_comp = [4,5,6]\n",
    "k_neighbours = [50,100,200,300]\n",
    "knn_mse_scores = pd.DataFrame({\"PCAcomps\": [i for i,j in itertools.product(pca_comp,k_neighbours)],\n",
    "                               \"Neighs\": [j for i,j in itertools.product(pca_comp,k_neighbours)],\n",
    "                               \"Block 32\": np.zeros(len(pca_comp)*len(k_neighbours)),\n",
    "                               \"Block 33\": np.zeros(len(pca_comp)*len(k_neighbours))})\n",
    "\n",
    "for valid in level1_valid_blocks:\n",
    "    Xtrain = Xall.loc[months < valid]\n",
    "    ytrain = yall[months < valid].clip(0,20)\n",
    "    Xvalid = Xall.loc[months == valid]\n",
    "    yvalid = yall[months == valid].clip(0,20)\n",
    "    for n_comp in pca_comp:\n",
    "        print(\"Block {}, {} components\".format(valid, n_comp))\n",
    "        pca_decomp = decomposition.PCA(n_components=n_comp)\n",
    "        pca_decomp.fit(Xtrain)\n",
    "        print(\"Proportion of variance explained:\", sum(pca_decomp.explained_variance_ratio_))\n",
    "        Xtrain_pca = pca_decomp.transform(Xtrain)\n",
    "        Xvalid_pca = pca_decomp.transform(Xvalid)\n",
    "        for k_neigh in k_neighbours:\n",
    "            knn_regr = neighbors.KNeighborsRegressor(algorithm=\"ball_tree\", n_neighbors=k_neigh, n_jobs=-1)\n",
    "            knn_regr.fit(Xtrain_pca, ytrain)\n",
    "            knn_pred = knn_regr.predict(Xvalid_pca).clip(0,20)\n",
    "            knn_mse_scores.loc[(knn_mse_scores.PCAcomps == n_comp) &\n",
    "                               (knn_mse_scores.Neighs == k_neigh), \"Block \"+str(valid)] =\\\n",
    "                                    metrics.mean_squared_error(y_true=yvalid, y_pred=knn_pred)\n",
    "\n",
    "del Xtrain,ytrain,Xvalid,yvalid,pca_decomp,Xtrain_pca,Xvalid_pca"
   ]
  },
  {
   "cell_type": "code",
   "execution_count": 9,
   "metadata": {},
   "outputs": [
    {
     "data": {
      "text/html": [
       "<div>\n",
       "<style scoped>\n",
       "    .dataframe tbody tr th:only-of-type {\n",
       "        vertical-align: middle;\n",
       "    }\n",
       "\n",
       "    .dataframe tbody tr th {\n",
       "        vertical-align: top;\n",
       "    }\n",
       "\n",
       "    .dataframe thead th {\n",
       "        text-align: right;\n",
       "    }\n",
       "</style>\n",
       "<table border=\"1\" class=\"dataframe\">\n",
       "  <thead>\n",
       "    <tr style=\"text-align: right;\">\n",
       "      <th></th>\n",
       "      <th>PCAcomps</th>\n",
       "      <th>Neighs</th>\n",
       "      <th>Block 32</th>\n",
       "      <th>Block 33</th>\n",
       "    </tr>\n",
       "  </thead>\n",
       "  <tbody>\n",
       "    <tr>\n",
       "      <th>0</th>\n",
       "      <td>4</td>\n",
       "      <td>50</td>\n",
       "      <td>1.414683</td>\n",
       "      <td>1.629712</td>\n",
       "    </tr>\n",
       "    <tr>\n",
       "      <th>1</th>\n",
       "      <td>4</td>\n",
       "      <td>100</td>\n",
       "      <td>1.299691</td>\n",
       "      <td>1.505183</td>\n",
       "    </tr>\n",
       "    <tr>\n",
       "      <th>2</th>\n",
       "      <td>4</td>\n",
       "      <td>200</td>\n",
       "      <td>1.257588</td>\n",
       "      <td>1.391841</td>\n",
       "    </tr>\n",
       "    <tr>\n",
       "      <th>3</th>\n",
       "      <td>4</td>\n",
       "      <td>300</td>\n",
       "      <td>1.252552</td>\n",
       "      <td>1.341284</td>\n",
       "    </tr>\n",
       "    <tr>\n",
       "      <th>4</th>\n",
       "      <td>5</td>\n",
       "      <td>50</td>\n",
       "      <td>1.364527</td>\n",
       "      <td>1.491274</td>\n",
       "    </tr>\n",
       "    <tr>\n",
       "      <th>5</th>\n",
       "      <td>5</td>\n",
       "      <td>100</td>\n",
       "      <td>1.272086</td>\n",
       "      <td>1.414374</td>\n",
       "    </tr>\n",
       "    <tr>\n",
       "      <th>6</th>\n",
       "      <td>5</td>\n",
       "      <td>200</td>\n",
       "      <td>1.242066</td>\n",
       "      <td>1.355735</td>\n",
       "    </tr>\n",
       "    <tr>\n",
       "      <th>7</th>\n",
       "      <td>5</td>\n",
       "      <td>300</td>\n",
       "      <td>1.238837</td>\n",
       "      <td>1.319622</td>\n",
       "    </tr>\n",
       "    <tr>\n",
       "      <th>8</th>\n",
       "      <td>6</td>\n",
       "      <td>50</td>\n",
       "      <td>1.236372</td>\n",
       "      <td>1.488409</td>\n",
       "    </tr>\n",
       "    <tr>\n",
       "      <th>9</th>\n",
       "      <td>6</td>\n",
       "      <td>100</td>\n",
       "      <td>1.205907</td>\n",
       "      <td>1.408497</td>\n",
       "    </tr>\n",
       "    <tr>\n",
       "      <th>10</th>\n",
       "      <td>6</td>\n",
       "      <td>200</td>\n",
       "      <td>1.212520</td>\n",
       "      <td>1.352907</td>\n",
       "    </tr>\n",
       "    <tr>\n",
       "      <th>11</th>\n",
       "      <td>6</td>\n",
       "      <td>300</td>\n",
       "      <td>1.221803</td>\n",
       "      <td>1.317068</td>\n",
       "    </tr>\n",
       "  </tbody>\n",
       "</table>\n",
       "</div>"
      ],
      "text/plain": [
       "    PCAcomps  Neighs  Block 32  Block 33\n",
       "0          4      50  1.414683  1.629712\n",
       "1          4     100  1.299691  1.505183\n",
       "2          4     200  1.257588  1.391841\n",
       "3          4     300  1.252552  1.341284\n",
       "4          5      50  1.364527  1.491274\n",
       "5          5     100  1.272086  1.414374\n",
       "6          5     200  1.242066  1.355735\n",
       "7          5     300  1.238837  1.319622\n",
       "8          6      50  1.236372  1.488409\n",
       "9          6     100  1.205907  1.408497\n",
       "10         6     200  1.212520  1.352907\n",
       "11         6     300  1.221803  1.317068"
      ]
     },
     "execution_count": 9,
     "metadata": {},
     "output_type": "execute_result"
    }
   ],
   "source": [
    "knn_mse_scores"
   ]
  },
  {
   "cell_type": "code",
   "execution_count": 7,
   "metadata": {},
   "outputs": [],
   "source": [
    "best_comp = 6\n",
    "best_neigh = 300"
   ]
  },
  {
   "cell_type": "markdown",
   "metadata": {},
   "source": [
    "### Predict train meta-features"
   ]
  },
  {
   "cell_type": "code",
   "execution_count": 8,
   "metadata": {},
   "outputs": [
    {
     "name": "stdout",
     "output_type": "stream",
     "text": [
      "24\n",
      "Proportion of variance explained: 0.993707874481016\n",
      "25\n",
      "Proportion of variance explained: 0.9936296794659307\n",
      "26\n",
      "Proportion of variance explained: 0.9932615311456936\n",
      "27\n",
      "Proportion of variance explained: 0.9931750919570098\n",
      "28\n",
      "Proportion of variance explained: 0.9932089229586475\n",
      "29\n",
      "Proportion of variance explained: 0.9932662728727802\n",
      "30\n",
      "Proportion of variance explained: 0.9933159743122069\n",
      "31\n",
      "Proportion of variance explained: 0.9933709101635475\n",
      "32\n",
      "Proportion of variance explained: 0.9934352438902342\n",
      "33\n",
      "Proportion of variance explained: 0.993495015591923\n",
      "34\n",
      "Proportion of variance explained: 0.9935395618436456\n"
     ]
    }
   ],
   "source": [
    "for meta_block in level2_blocks:\n",
    "    print(meta_block)\n",
    "    Xtrain = Xall.loc[months < meta_block]\n",
    "    ytrain = yall[months < meta_block].clip(0,20)\n",
    "    Xmeta = Xall.loc[months == meta_block]\n",
    "    \n",
    "    pca_decomp = decomposition.PCA(n_components=best_comp)\n",
    "    pca_decomp.fit(Xtrain)\n",
    "    print(\"Proportion of variance explained:\", sum(pca_decomp.explained_variance_ratio_))\n",
    "    Xtrain_pca = pca_decomp.transform(Xtrain)\n",
    "    Xmeta_pca  = pca_decomp.transform(Xmeta)\n",
    "    knn_regr = neighbors.KNeighborsRegressor(algorithm=\"ball_tree\", n_neighbors=best_neigh, n_jobs=-1)\n",
    "    knn_regr.fit(Xtrain_pca, ytrain)\n",
    "    ymeta_knn = knn_regr.predict(Xmeta_pca).clip(0,20)\n",
    "    \n",
    "    X_level2[months_level2 == meta_block,1] = ymeta_knn\n",
    "\n",
    "del Xtrain,ytrain,Xmeta,pca_decomp,Xtrain_pca,Xmeta_pca,ymeta_knn"
   ]
  },
  {
   "cell_type": "markdown",
   "metadata": {},
   "source": [
    "### Predict test meta-features"
   ]
  },
  {
   "cell_type": "code",
   "execution_count": null,
   "metadata": {},
   "outputs": [],
   "source": [
    "pca_decomp = decomposition.PCA(n_components=5)\n",
    "pca_decomp.fit(Xtrain_level1)\n",
    "Xtrain_pca = pca_decomp.transform(Xtrain_level1)\n",
    "Xtest_pca = pca_decomp.transform(Xtest_level1.drop(columns=\"ID\"))\n",
    "knn_regr = neighbors.KNeighborsRegressor(algorithm=\"ball_tree\", n_neighbors=20, n_jobs=-1)\n",
    "knn_regr.fit(Xtrain_pca, ytrain_level1.clip(0,20))\n",
    "knn_pred = knn_regr.predict(Xtest_pca).clip(0,20)"
   ]
  },
  {
   "cell_type": "markdown",
   "metadata": {},
   "source": [
    "## 3. Gradient boosting"
   ]
  },
  {
   "cell_type": "markdown",
   "metadata": {},
   "source": [
    "### Validate on last two months"
   ]
  },
  {
   "cell_type": "code",
   "execution_count": 8,
   "metadata": {
    "collapsed": true
   },
   "outputs": [
    {
     "name": "stdout",
     "output_type": "stream",
     "text": [
      "32\n",
      "0:\tlearn: 1.1741923\ttest: 1.1414913\tbest: 1.1414913 (0)\ttotal: 1.96s\tremaining: 4m 51s\n",
      "50:\tlearn: 0.8906879\ttest: 0.9325013\tbest: 0.9325013 (50)\ttotal: 1m 18s\tremaining: 2m 31s\n",
      "100:\tlearn: 0.8315430\ttest: 0.9273728\tbest: 0.9273728 (100)\ttotal: 2m 32s\tremaining: 1m 13s\n",
      "149:\tlearn: 0.8161097\ttest: 0.9238920\tbest: 0.9234228 (145)\ttotal: 3m 48s\tremaining: 0us\n",
      "\n",
      "bestTest = 0.9234227737\n",
      "bestIteration = 145\n",
      "\n",
      "Shrink model to first 146 iterations.\n",
      "0:\tlearn: 1.1741923\ttest: 1.1414913\tbest: 1.1414913 (0)\ttotal: 1.85s\tremaining: 4m 35s\n",
      "50:\tlearn: 0.8906884\ttest: 0.9325017\tbest: 0.9325017 (50)\ttotal: 1m 14s\tremaining: 2m 24s\n",
      "100:\tlearn: 0.8315436\ttest: 0.9273729\tbest: 0.9273729 (100)\ttotal: 2m 32s\tremaining: 1m 14s\n",
      "149:\tlearn: 0.8161107\ttest: 0.9238922\tbest: 0.9234230 (145)\ttotal: 3m 49s\tremaining: 0us\n",
      "\n",
      "bestTest = 0.9234229951\n",
      "bestIteration = 145\n",
      "\n",
      "Shrink model to first 146 iterations.\n",
      "0:\tlearn: 1.1741962\ttest: 1.1414942\tbest: 1.1414942 (0)\ttotal: 1.75s\tremaining: 4m 20s\n",
      "50:\tlearn: 0.8908597\ttest: 0.9311577\tbest: 0.9311577 (50)\ttotal: 1m 17s\tremaining: 2m 29s\n",
      "Stopped by overfitting detector  (15 iterations wait)\n",
      "\n",
      "bestTest = 0.9266555255\n",
      "bestIteration = 73\n",
      "\n",
      "Shrink model to first 74 iterations.\n",
      "0:\tlearn: 1.1745717\ttest: 1.1417703\tbest: 1.1417703 (0)\ttotal: 1.74s\tremaining: 4m 18s\n",
      "50:\tlearn: 0.8997463\ttest: 0.9304304\tbest: 0.9304304 (50)\ttotal: 1m 14s\tremaining: 2m 24s\n",
      "Stopped by overfitting detector  (15 iterations wait)\n",
      "\n",
      "bestTest = 0.926708859\n",
      "bestIteration = 72\n",
      "\n",
      "Shrink model to first 73 iterations.\n",
      "0:\tlearn: 1.1810038\ttest: 1.1469983\tbest: 1.1469983 (0)\ttotal: 1.75s\tremaining: 4m 20s\n",
      "50:\tlearn: 0.9781021\ttest: 0.9839826\tbest: 0.9839826 (50)\ttotal: 1m 14s\tremaining: 2m 24s\n",
      "100:\tlearn: 0.9458875\ttest: 0.9586997\tbest: 0.9586997 (100)\ttotal: 2m 26s\tremaining: 1m 11s\n",
      "149:\tlearn: 0.9316460\ttest: 0.9453476\tbest: 0.9453476 (149)\ttotal: 3m 37s\tremaining: 0us\n",
      "\n",
      "bestTest = 0.9453476374\n",
      "bestIteration = 149\n",
      "\n",
      "33\n",
      "0:\tlearn: 1.1733193\ttest: 1.1262947\tbest: 1.1262947 (0)\ttotal: 2.02s\tremaining: 5m 1s\n",
      "50:\tlearn: 0.8914637\ttest: 0.9555089\tbest: 0.9555089 (50)\ttotal: 1m 23s\tremaining: 2m 42s\n",
      "Stopped by overfitting detector  (15 iterations wait)\n",
      "\n",
      "bestTest = 0.9546176996\n",
      "bestIteration = 59\n",
      "\n",
      "Shrink model to first 60 iterations.\n",
      "0:\tlearn: 1.1733194\ttest: 1.1262948\tbest: 1.1262948 (0)\ttotal: 1.86s\tremaining: 4m 37s\n",
      "50:\tlearn: 0.8914642\ttest: 0.9555092\tbest: 0.9555092 (50)\ttotal: 1m 18s\tremaining: 2m 32s\n",
      "Stopped by overfitting detector  (15 iterations wait)\n",
      "\n",
      "bestTest = 0.9546179719\n",
      "bestIteration = 59\n",
      "\n",
      "Shrink model to first 60 iterations.\n",
      "0:\tlearn: 1.1733250\ttest: 1.1263005\tbest: 1.1263005 (0)\ttotal: 1.83s\tremaining: 4m 32s\n",
      "50:\tlearn: 0.8915415\ttest: 0.9552895\tbest: 0.9552895 (50)\ttotal: 1m 17s\tremaining: 2m 31s\n",
      "Stopped by overfitting detector  (15 iterations wait)\n",
      "\n",
      "bestTest = 0.9544109584\n",
      "bestIteration = 57\n",
      "\n",
      "Shrink model to first 58 iterations.\n",
      "0:\tlearn: 1.1737659\ttest: 1.1267296\tbest: 1.1267296 (0)\ttotal: 1.81s\tremaining: 4m 30s\n",
      "50:\tlearn: 0.9009652\ttest: 0.9558851\tbest: 0.9558851 (50)\ttotal: 1m 18s\tremaining: 2m 31s\n",
      "Stopped by overfitting detector  (15 iterations wait)\n",
      "\n",
      "bestTest = 0.9537780746\n",
      "bestIteration = 60\n",
      "\n",
      "Shrink model to first 61 iterations.\n",
      "0:\tlearn: 1.1795642\ttest: 1.1302229\tbest: 1.1302229 (0)\ttotal: 1.79s\tremaining: 4m 27s\n",
      "50:\tlearn: 0.9763542\ttest: 0.9968469\tbest: 0.9968469 (50)\ttotal: 1m 18s\tremaining: 2m 32s\n",
      "100:\tlearn: 0.9432769\ttest: 0.9779783\tbest: 0.9779783 (100)\ttotal: 2m 33s\tremaining: 1m 14s\n",
      "149:\tlearn: 0.9267166\ttest: 0.9693982\tbest: 0.9693982 (149)\ttotal: 3m 46s\tremaining: 0us\n",
      "\n",
      "bestTest = 0.9693982014\n",
      "bestIteration = 149\n",
      "\n"
     ]
    }
   ],
   "source": [
    "regul = np.logspace(-4, 4, 5)\n",
    "cat_mse_scores = pd.DataFrame({\"regul:\": regul,\n",
    "                               \"block 32\": np.zeros_like(regul),\n",
    "                               \"least important 32\": np.empty_like(regul, dtype=\"str\"),\n",
    "                               \"most important 32\": np.empty_like(regul, dtype=\"str\"),\n",
    "                               \"best nbr trees 32\": np.zeros_like(regul),\n",
    "                               \"block 33\": np.zeros_like(regul),\n",
    "                               \"least important 33\": np.empty_like(regul, dtype=\"str\"),\n",
    "                               \"most important 33\": np.empty_like(regul, dtype=\"str\"),\n",
    "                               \"best nbr trees 33\": np.zeros_like(regul)})\n",
    "cat_features = [Xall.columns.get_loc(c) for c in [\"item_id\",\"shop_id\",\"item_category_id\",\"month\",\n",
    "                                                  \"metacat\",\"subcat\",\"city\"]]\n",
    "\n",
    "for i,valid in enumerate(level1_valid_blocks):\n",
    "    print(valid)\n",
    "    for j,alpha in enumerate(regul):\n",
    "        Xtrain = Xall.loc[months < valid]\n",
    "        ytrain = yall[months < valid].clip(0,20)\n",
    "        Xvalid = Xall.loc[months == valid]\n",
    "        yvalid = yall[months == valid].clip(0,20)\n",
    "        pool_test = Pool(Xvalid, yvalid, cat_features=cat_features)\n",
    "\n",
    "        cat = CatBoostRegressor(iterations=150,\n",
    "                                learning_rate=0.03,\n",
    "                                od_type=\"Iter\",\n",
    "                                od_wait=15,\n",
    "                                use_best_model=True,\n",
    "                                loss_function=\"RMSE\",\n",
    "                                eval_metric=\"RMSE\",\n",
    "                                one_hot_max_size=2,\n",
    "                                l2_leaf_reg=alpha)\n",
    "        cat.fit(Xtrain,\n",
    "                ytrain,\n",
    "                cat_features=cat_features,\n",
    "                eval_set=pool_test,\n",
    "                verbose=50)\n",
    "        cat_mse_scores.at[j, \"block \"+str(valid)] = cat.get_best_score()[\"validation\"][\"RMSE\"]\n",
    "        cat_mse_scores.at[j, \"best nbr trees \"+str(valid)] = cat.get_best_iteration()\n",
    "        feat_imp = cat.get_feature_importance(prettified=True)\n",
    "        cat_mse_scores.at[j, \"least important \"+str(valid)] = feat_imp[\"Feature Id\"].tail(1).values\n",
    "        cat_mse_scores.at[j, \"most important \"+str(valid)] = feat_imp[\"Feature Id\"].head(1).values\n",
    "    \n",
    "del Xtrain,ytrain,Xvalid,yvalid,pool_test"
   ]
  },
  {
   "cell_type": "code",
   "execution_count": 9,
   "metadata": {},
   "outputs": [
    {
     "data": {
      "text/html": [
       "<div>\n",
       "<style scoped>\n",
       "    .dataframe tbody tr th:only-of-type {\n",
       "        vertical-align: middle;\n",
       "    }\n",
       "\n",
       "    .dataframe tbody tr th {\n",
       "        vertical-align: top;\n",
       "    }\n",
       "\n",
       "    .dataframe thead th {\n",
       "        text-align: right;\n",
       "    }\n",
       "</style>\n",
       "<table border=\"1\" class=\"dataframe\">\n",
       "  <thead>\n",
       "    <tr style=\"text-align: right;\">\n",
       "      <th></th>\n",
       "      <th>regul:</th>\n",
       "      <th>block 32</th>\n",
       "      <th>least important 32</th>\n",
       "      <th>most important 32</th>\n",
       "      <th>best nbr trees 32</th>\n",
       "      <th>block 33</th>\n",
       "      <th>least important 33</th>\n",
       "      <th>most important 33</th>\n",
       "      <th>best nbr trees 33</th>\n",
       "    </tr>\n",
       "  </thead>\n",
       "  <tbody>\n",
       "    <tr>\n",
       "      <th>0</th>\n",
       "      <td>0.0001</td>\n",
       "      <td>0.923423</td>\n",
       "      <td>[item_price_rel_lag_1]</td>\n",
       "      <td>[item_cnt_month_lag_1]</td>\n",
       "      <td>145.0</td>\n",
       "      <td>0.954618</td>\n",
       "      <td>[item_price_rel_lag_1]</td>\n",
       "      <td>[item_cnt_month_lag_1]</td>\n",
       "      <td>59.0</td>\n",
       "    </tr>\n",
       "    <tr>\n",
       "      <th>1</th>\n",
       "      <td>0.0100</td>\n",
       "      <td>0.923423</td>\n",
       "      <td>[item_price_rel_lag_1]</td>\n",
       "      <td>[item_cnt_month_lag_1]</td>\n",
       "      <td>145.0</td>\n",
       "      <td>0.954618</td>\n",
       "      <td>[item_price_rel_lag_1]</td>\n",
       "      <td>[item_cnt_month_lag_1]</td>\n",
       "      <td>59.0</td>\n",
       "    </tr>\n",
       "    <tr>\n",
       "      <th>2</th>\n",
       "      <td>1.0000</td>\n",
       "      <td>0.926656</td>\n",
       "      <td>[item_price_rel_lag_1]</td>\n",
       "      <td>[item_cnt_month_lag_1]</td>\n",
       "      <td>73.0</td>\n",
       "      <td>0.954411</td>\n",
       "      <td>[item_price_rel_lag_1]</td>\n",
       "      <td>[item_cnt_month_lag_1]</td>\n",
       "      <td>57.0</td>\n",
       "    </tr>\n",
       "    <tr>\n",
       "      <th>3</th>\n",
       "      <td>100.0000</td>\n",
       "      <td>0.926709</td>\n",
       "      <td>[item_price_rel_lag_1]</td>\n",
       "      <td>[item_cnt_month_lag_1]</td>\n",
       "      <td>72.0</td>\n",
       "      <td>0.953778</td>\n",
       "      <td>[item_price_rel_lag_1]</td>\n",
       "      <td>[item_cnt_month_lag_1]</td>\n",
       "      <td>60.0</td>\n",
       "    </tr>\n",
       "    <tr>\n",
       "      <th>4</th>\n",
       "      <td>10000.0000</td>\n",
       "      <td>0.945348</td>\n",
       "      <td>[subcat_agg_lag_1]</td>\n",
       "      <td>[item_cnt_month_lag_1]</td>\n",
       "      <td>149.0</td>\n",
       "      <td>0.969398</td>\n",
       "      <td>[item_price_rel_lag_1]</td>\n",
       "      <td>[item_cnt_month_lag_1]</td>\n",
       "      <td>149.0</td>\n",
       "    </tr>\n",
       "  </tbody>\n",
       "</table>\n",
       "</div>"
      ],
      "text/plain": [
       "       regul:  block 32      least important 32       most important 32  \\\n",
       "0      0.0001  0.923423  [item_price_rel_lag_1]  [item_cnt_month_lag_1]   \n",
       "1      0.0100  0.923423  [item_price_rel_lag_1]  [item_cnt_month_lag_1]   \n",
       "2      1.0000  0.926656  [item_price_rel_lag_1]  [item_cnt_month_lag_1]   \n",
       "3    100.0000  0.926709  [item_price_rel_lag_1]  [item_cnt_month_lag_1]   \n",
       "4  10000.0000  0.945348      [subcat_agg_lag_1]  [item_cnt_month_lag_1]   \n",
       "\n",
       "   best nbr trees 32  block 33      least important 33  \\\n",
       "0              145.0  0.954618  [item_price_rel_lag_1]   \n",
       "1              145.0  0.954618  [item_price_rel_lag_1]   \n",
       "2               73.0  0.954411  [item_price_rel_lag_1]   \n",
       "3               72.0  0.953778  [item_price_rel_lag_1]   \n",
       "4              149.0  0.969398  [item_price_rel_lag_1]   \n",
       "\n",
       "        most important 33  best nbr trees 33  \n",
       "0  [item_cnt_month_lag_1]               59.0  \n",
       "1  [item_cnt_month_lag_1]               59.0  \n",
       "2  [item_cnt_month_lag_1]               57.0  \n",
       "3  [item_cnt_month_lag_1]               60.0  \n",
       "4  [item_cnt_month_lag_1]              149.0  "
      ]
     },
     "execution_count": 9,
     "metadata": {},
     "output_type": "execute_result"
    }
   ],
   "source": [
    "cat_mse_scores"
   ]
  },
  {
   "cell_type": "code",
   "execution_count": 10,
   "metadata": {},
   "outputs": [
    {
     "data": {
      "text/html": [
       "<div>\n",
       "<style scoped>\n",
       "    .dataframe tbody tr th:only-of-type {\n",
       "        vertical-align: middle;\n",
       "    }\n",
       "\n",
       "    .dataframe tbody tr th {\n",
       "        vertical-align: top;\n",
       "    }\n",
       "\n",
       "    .dataframe thead th {\n",
       "        text-align: right;\n",
       "    }\n",
       "</style>\n",
       "<table border=\"1\" class=\"dataframe\">\n",
       "  <thead>\n",
       "    <tr style=\"text-align: right;\">\n",
       "      <th></th>\n",
       "      <th>Feature Id</th>\n",
       "      <th>Importances</th>\n",
       "    </tr>\n",
       "  </thead>\n",
       "  <tbody>\n",
       "    <tr>\n",
       "      <th>0</th>\n",
       "      <td>item_cnt_month_lag_1</td>\n",
       "      <td>42.346897</td>\n",
       "    </tr>\n",
       "    <tr>\n",
       "      <th>1</th>\n",
       "      <td>since_first</td>\n",
       "      <td>16.708508</td>\n",
       "    </tr>\n",
       "    <tr>\n",
       "      <th>2</th>\n",
       "      <td>item_agg_lag_1</td>\n",
       "      <td>8.923589</td>\n",
       "    </tr>\n",
       "    <tr>\n",
       "      <th>3</th>\n",
       "      <td>item_cnt_month_lag_2</td>\n",
       "      <td>7.006977</td>\n",
       "    </tr>\n",
       "    <tr>\n",
       "      <th>4</th>\n",
       "      <td>item_cnt_month_lag_3</td>\n",
       "      <td>6.448289</td>\n",
       "    </tr>\n",
       "    <tr>\n",
       "      <th>5</th>\n",
       "      <td>item_category_id</td>\n",
       "      <td>5.756472</td>\n",
       "    </tr>\n",
       "    <tr>\n",
       "      <th>6</th>\n",
       "      <td>itemcity_agg_lag_1</td>\n",
       "      <td>4.262539</td>\n",
       "    </tr>\n",
       "    <tr>\n",
       "      <th>7</th>\n",
       "      <td>shop_id</td>\n",
       "      <td>3.395184</td>\n",
       "    </tr>\n",
       "    <tr>\n",
       "      <th>8</th>\n",
       "      <td>subcat</td>\n",
       "      <td>2.215479</td>\n",
       "    </tr>\n",
       "    <tr>\n",
       "      <th>9</th>\n",
       "      <td>item_id</td>\n",
       "      <td>1.758387</td>\n",
       "    </tr>\n",
       "    <tr>\n",
       "      <th>10</th>\n",
       "      <td>item_agg_lag_3</td>\n",
       "      <td>0.471393</td>\n",
       "    </tr>\n",
       "    <tr>\n",
       "      <th>11</th>\n",
       "      <td>metacat</td>\n",
       "      <td>0.304319</td>\n",
       "    </tr>\n",
       "    <tr>\n",
       "      <th>12</th>\n",
       "      <td>shop_agg_lag_3</td>\n",
       "      <td>0.283148</td>\n",
       "    </tr>\n",
       "    <tr>\n",
       "      <th>13</th>\n",
       "      <td>metacat_agg_lag_1</td>\n",
       "      <td>0.053297</td>\n",
       "    </tr>\n",
       "    <tr>\n",
       "      <th>14</th>\n",
       "      <td>shop_agg_lag_2</td>\n",
       "      <td>0.039674</td>\n",
       "    </tr>\n",
       "    <tr>\n",
       "      <th>15</th>\n",
       "      <td>item_agg_lag_2</td>\n",
       "      <td>0.025848</td>\n",
       "    </tr>\n",
       "    <tr>\n",
       "      <th>16</th>\n",
       "      <td>date_block_num</td>\n",
       "      <td>0.000000</td>\n",
       "    </tr>\n",
       "    <tr>\n",
       "      <th>17</th>\n",
       "      <td>month</td>\n",
       "      <td>0.000000</td>\n",
       "    </tr>\n",
       "    <tr>\n",
       "      <th>18</th>\n",
       "      <td>city</td>\n",
       "      <td>0.000000</td>\n",
       "    </tr>\n",
       "    <tr>\n",
       "      <th>19</th>\n",
       "      <td>item_cnt_month_lag_12</td>\n",
       "      <td>0.000000</td>\n",
       "    </tr>\n",
       "    <tr>\n",
       "      <th>20</th>\n",
       "      <td>shop_agg_lag_1</td>\n",
       "      <td>0.000000</td>\n",
       "    </tr>\n",
       "    <tr>\n",
       "      <th>21</th>\n",
       "      <td>shop_agg_lag_12</td>\n",
       "      <td>0.000000</td>\n",
       "    </tr>\n",
       "    <tr>\n",
       "      <th>22</th>\n",
       "      <td>item_agg_lag_12</td>\n",
       "      <td>0.000000</td>\n",
       "    </tr>\n",
       "    <tr>\n",
       "      <th>23</th>\n",
       "      <td>shopcat_agg_lag_1</td>\n",
       "      <td>0.000000</td>\n",
       "    </tr>\n",
       "    <tr>\n",
       "      <th>24</th>\n",
       "      <td>cat_agg_lag_1</td>\n",
       "      <td>0.000000</td>\n",
       "    </tr>\n",
       "    <tr>\n",
       "      <th>25</th>\n",
       "      <td>subcat_agg_lag_1</td>\n",
       "      <td>0.000000</td>\n",
       "    </tr>\n",
       "    <tr>\n",
       "      <th>26</th>\n",
       "      <td>item_price_rel_lag_1</td>\n",
       "      <td>0.000000</td>\n",
       "    </tr>\n",
       "  </tbody>\n",
       "</table>\n",
       "</div>"
      ],
      "text/plain": [
       "               Feature Id  Importances\n",
       "0    item_cnt_month_lag_1    42.346897\n",
       "1             since_first    16.708508\n",
       "2          item_agg_lag_1     8.923589\n",
       "3    item_cnt_month_lag_2     7.006977\n",
       "4    item_cnt_month_lag_3     6.448289\n",
       "5        item_category_id     5.756472\n",
       "6      itemcity_agg_lag_1     4.262539\n",
       "7                 shop_id     3.395184\n",
       "8                  subcat     2.215479\n",
       "9                 item_id     1.758387\n",
       "10         item_agg_lag_3     0.471393\n",
       "11                metacat     0.304319\n",
       "12         shop_agg_lag_3     0.283148\n",
       "13      metacat_agg_lag_1     0.053297\n",
       "14         shop_agg_lag_2     0.039674\n",
       "15         item_agg_lag_2     0.025848\n",
       "16         date_block_num     0.000000\n",
       "17                  month     0.000000\n",
       "18                   city     0.000000\n",
       "19  item_cnt_month_lag_12     0.000000\n",
       "20         shop_agg_lag_1     0.000000\n",
       "21        shop_agg_lag_12     0.000000\n",
       "22        item_agg_lag_12     0.000000\n",
       "23      shopcat_agg_lag_1     0.000000\n",
       "24          cat_agg_lag_1     0.000000\n",
       "25       subcat_agg_lag_1     0.000000\n",
       "26   item_price_rel_lag_1     0.000000"
      ]
     },
     "execution_count": 10,
     "metadata": {},
     "output_type": "execute_result"
    }
   ],
   "source": [
    "cat.get_feature_importance(prettified=True)"
   ]
  },
  {
   "cell_type": "code",
   "execution_count": 9,
   "metadata": {},
   "outputs": [],
   "source": [
    "best_alpha = 1000\n",
    "best_lr = 0.03\n",
    "best_iter = 95"
   ]
  },
  {
   "cell_type": "markdown",
   "metadata": {},
   "source": [
    "### Predict train meta-features"
   ]
  },
  {
   "cell_type": "code",
   "execution_count": 11,
   "metadata": {},
   "outputs": [
    {
     "name": "stdout",
     "output_type": "stream",
     "text": [
      "0:\tlearn: 1.2242611\ttotal: 1.29s\tremaining: 2m 1s\n",
      "50:\tlearn: 0.9792756\ttotal: 51.8s\tremaining: 44.7s\n",
      "94:\tlearn: 0.8902057\ttotal: 1m 35s\tremaining: 0us\n",
      "0:\tlearn: 1.2242507\ttotal: 1.2s\tremaining: 1m 52s\n",
      "50:\tlearn: 0.9740695\ttotal: 59.2s\tremaining: 51.1s\n",
      "94:\tlearn: 0.8935565\ttotal: 1m 48s\tremaining: 0us\n",
      "0:\tlearn: 1.2148712\ttotal: 1.31s\tremaining: 2m 3s\n",
      "50:\tlearn: 0.9660464\ttotal: 57.1s\tremaining: 49.2s\n",
      "94:\tlearn: 0.8867692\ttotal: 1m 46s\tremaining: 0us\n",
      "0:\tlearn: 1.2069370\ttotal: 1.4s\tremaining: 2m 11s\n",
      "50:\tlearn: 0.9593243\ttotal: 1m 1s\tremaining: 53.1s\n",
      "94:\tlearn: 0.8805034\ttotal: 1m 54s\tremaining: 0us\n",
      "0:\tlearn: 1.2012330\ttotal: 1.45s\tremaining: 2m 16s\n",
      "50:\tlearn: 0.9567137\ttotal: 1m 2s\tremaining: 54.3s\n",
      "94:\tlearn: 0.8801021\ttotal: 1m 58s\tremaining: 0us\n",
      "0:\tlearn: 1.1963612\ttotal: 1.6s\tremaining: 2m 30s\n",
      "50:\tlearn: 0.9535608\ttotal: 1m 5s\tremaining: 56.5s\n",
      "94:\tlearn: 0.8804154\ttotal: 2m 1s\tremaining: 0us\n",
      "0:\tlearn: 1.1903493\ttotal: 1.55s\tremaining: 2m 25s\n",
      "50:\tlearn: 0.9487649\ttotal: 1m 7s\tremaining: 58.3s\n",
      "94:\tlearn: 0.8783377\ttotal: 2m 5s\tremaining: 0us\n",
      "0:\tlearn: 1.1832023\ttotal: 1.87s\tremaining: 2m 55s\n",
      "50:\tlearn: 0.9421552\ttotal: 1m 11s\tremaining: 1m 2s\n",
      "94:\tlearn: 0.8740275\ttotal: 2m 14s\tremaining: 0us\n",
      "0:\tlearn: 1.1787347\ttotal: 1.79s\tremaining: 2m 48s\n",
      "50:\tlearn: 0.9382847\ttotal: 1m 14s\tremaining: 1m 4s\n",
      "94:\tlearn: 0.8717951\ttotal: 2m 22s\tremaining: 0us\n",
      "0:\tlearn: 1.1776411\ttotal: 1.97s\tremaining: 3m 5s\n",
      "50:\tlearn: 0.9379770\ttotal: 1m 20s\tremaining: 1m 9s\n",
      "94:\tlearn: 0.8758736\ttotal: 2m 29s\tremaining: 0us\n",
      "0:\tlearn: 1.1755851\ttotal: 1.85s\tremaining: 2m 54s\n",
      "50:\tlearn: 0.9393215\ttotal: 1m 24s\tremaining: 1m 13s\n",
      "94:\tlearn: 0.8766386\ttotal: 2m 35s\tremaining: 0us\n"
     ]
    }
   ],
   "source": [
    "cat_features = [Xall.columns.get_loc(c) for c in [\"item_id\",\"shop_id\",\"item_category_id\",\"month\",\n",
    "                                                  \"metacat\",\"subcat\",\"city\"]]\n",
    "\n",
    "for meta_block in level2_blocks:\n",
    "    Xtrain = Xall.loc[months < meta_block]\n",
    "    ytrain = yall[months < meta_block].clip(0,20)\n",
    "    Xmeta = Xall.loc[months == meta_block]\n",
    "    \n",
    "    cat = CatBoostRegressor(iterations=best_iter,\n",
    "                            learning_rate=best_lr,\n",
    "                            use_best_model=False,\n",
    "                            loss_function=\"RMSE\",\n",
    "                            eval_metric=\"RMSE\",\n",
    "                            one_hot_max_size=2,\n",
    "                            l2_leaf_reg=best_alpha)\n",
    "    cat.fit(Xtrain,\n",
    "            ytrain,\n",
    "            cat_features=cat_features,\n",
    "            verbose=50)\n",
    "    ymeta_cat = cat.predict(Xmeta).clip(0,20)\n",
    "    \n",
    "    X_level2[months_level2 == meta_block,2] = ymeta_cat\n",
    "    \n",
    "del Xtrain,ytrain,Xmeta,cat,ymeta_cat"
   ]
  },
  {
   "cell_type": "markdown",
   "metadata": {},
   "source": [
    "### Predict test meta-features"
   ]
  },
  {
   "cell_type": "code",
   "execution_count": 11,
   "metadata": {},
   "outputs": [
    {
     "name": "stdout",
     "output_type": "stream",
     "text": [
      "0:\tlearn: 1.1755851\ttotal: 1.98s\tremaining: 3m 6s\n",
      "50:\tlearn: 0.9393215\ttotal: 1m 21s\tremaining: 1m 10s\n",
      "94:\tlearn: 0.8766386\ttotal: 2m 33s\tremaining: 0us\n"
     ]
    }
   ],
   "source": [
    "Xtrain = Xall.loc[months < 34]\n",
    "ytrain = yall[months < 34].clip(0,20)\n",
    "Xtest = Xall.loc[months == 34]\n",
    "\n",
    "cat = CatBoostRegressor(iterations=best_iter,\n",
    "                        learning_rate=best_lr,\n",
    "                        use_best_model=False,\n",
    "                        loss_function=\"RMSE\",\n",
    "                        eval_metric=\"RMSE\",\n",
    "                        one_hot_max_size=2,\n",
    "                        l2_leaf_reg=best_alpha)\n",
    "cat.fit(Xtrain,\n",
    "        ytrain,\n",
    "        cat_features=cat_features,\n",
    "        verbose=50)\n",
    "cat_pred = cat.predict(Xtest).clip(0,20)\n",
    "\n",
    "del Xtrain,ytrain"
   ]
  },
  {
   "cell_type": "code",
   "execution_count": 10,
   "metadata": {},
   "outputs": [
    {
     "ename": "NameError",
     "evalue": "name 'cat' is not defined",
     "output_type": "error",
     "traceback": [
      "\u001b[0;31m---------------------------------------------------------------------------\u001b[0m",
      "\u001b[0;31mNameError\u001b[0m                                 Traceback (most recent call last)",
      "\u001b[0;32m<ipython-input-10-a6afab94f48f>\u001b[0m in \u001b[0;36m<module>\u001b[0;34m\u001b[0m\n\u001b[0;32m----> 1\u001b[0;31m \u001b[0mcat\u001b[0m\u001b[0;34m.\u001b[0m\u001b[0mget_param\u001b[0m\u001b[0;34m(\u001b[0m\u001b[0;34m\"random_seed\"\u001b[0m\u001b[0;34m)\u001b[0m\u001b[0;34m\u001b[0m\u001b[0;34m\u001b[0m\u001b[0m\n\u001b[0m",
      "\u001b[0;31mNameError\u001b[0m: name 'cat' is not defined"
     ]
    }
   ],
   "source": [
    "cat.get_param(\"random_seed\")"
   ]
  },
  {
   "cell_type": "code",
   "execution_count": 12,
   "metadata": {},
   "outputs": [],
   "source": [
    "# validate on public leaderboard\n",
    "submission = Xtest.loc[:,[\"shop_id\",\"item_id\"]]\n",
    "submission[\"item_cnt_month\"] = cat_pred\n",
    "submission.loc[submission.shop_id == 11, \"shop_id\"] = 10\n",
    "test = pd.read_csv(os.path.join(DATA_FOLDER, 'test.csv.gz'))\n",
    "submission = test.merge(submission, how=\"left\", on=[\"shop_id\",\"item_id\"])\n",
    "submission.drop(columns=[\"shop_id\",\"item_id\"], inplace=True)\n",
    "submission.to_csv(\"../Submissions/submission_cat.csv\", index=False)# 0.986"
   ]
  },
  {
   "cell_type": "markdown",
   "metadata": {},
   "source": [
    "## 4. Neural network regression"
   ]
  },
  {
   "cell_type": "markdown",
   "metadata": {},
   "source": [
    "### Validate on last two months"
   ]
  },
  {
   "cell_type": "code",
   "execution_count": 58,
   "metadata": {},
   "outputs": [
    {
     "name": "stdout",
     "output_type": "stream",
     "text": [
      "0\n",
      "Iteration 1, loss = 2.76755049\n",
      "Iteration 2, loss = 2.66936138\n",
      "Iteration 3, loss = 2.62013444\n",
      "Iteration 4, loss = 2.56010249\n",
      "Iteration 5, loss = 2.47909144\n",
      "Iteration 6, loss = 2.45146428\n",
      "Iteration 7, loss = 2.43063374\n",
      "Iteration 8, loss = 2.38743215\n",
      "Iteration 9, loss = 2.37173117\n",
      "Iteration 10, loss = 2.34212261\n"
     ]
    },
    {
     "name": "stdout",
     "output_type": "stream",
     "text": [
      "1\n",
      "Iteration 1, loss = 3.44962365\n",
      "Iteration 2, loss = 3.31774433\n"
     ]
    }
   ],
   "source": [
    "nn_mse_scores = []\n",
    "\n",
    "for i,valid in enumerate(level1_valid_blocks):\n",
    "    print(i)\n",
    "    scaler = preprocessing.StandardScaler()\n",
    "    Xtrain = Xall.loc[months < valid]\n",
    "    Xtrain = scaler.fit_transform(Xtrain)\n",
    "    ytrain = yall[months < valid]\n",
    "    Xvalid = Xall.loc[months == valid]\n",
    "    Xvalid = scaler.transform(Xvalid)\n",
    "    yvalid = yall[months == valid].clip(0,20)\n",
    "    \n",
    "    nn = neural_network.MLPRegressor(hidden_layer_sizes=(32,16), solver='adam', max_iter=10, verbose=True)\n",
    "    nn.fit(Xtrain,ytrain)\n",
    "    nn_pred = nn.predict(Xvalid).clip(0,20)\n",
    "    nn_mse_scores.append(metrics.mean_squared_error(y_true=yvalid, y_pred=nn_pred))\n",
    "    \n",
    "del Xtrain,ytrain,Xvalid,yvalid,nn"
   ]
  },
  {
   "cell_type": "code",
   "execution_count": 59,
   "metadata": {},
   "outputs": [
    {
     "data": {
      "text/plain": [
       "[0.9178123427760705, 0.901967080031361]"
      ]
     },
     "execution_count": 59,
     "metadata": {},
     "output_type": "execute_result"
    }
   ],
   "source": [
    "nn_mse_scores"
   ]
  },
  {
   "cell_type": "code",
   "execution_count": 13,
   "metadata": {},
   "outputs": [],
   "source": [
    "best_iter_nn = 4"
   ]
  },
  {
   "cell_type": "markdown",
   "metadata": {},
   "source": [
    "### Predict train meta-features"
   ]
  },
  {
   "cell_type": "code",
   "execution_count": 14,
   "metadata": {},
   "outputs": [
    {
     "name": "stdout",
     "output_type": "stream",
     "text": [
      "Iteration 1, loss = 2.35996140\n",
      "Iteration 2, loss = 2.19275192\n",
      "Iteration 3, loss = 2.18869140\n",
      "Iteration 4, loss = 2.13631903\n"
     ]
    },
    {
     "name": "stdout",
     "output_type": "stream",
     "text": [
      "Iteration 1, loss = 2.64120081\n",
      "Iteration 2, loss = 2.39433605\n",
      "Iteration 3, loss = 2.38574864\n",
      "Iteration 4, loss = 2.34249175\n"
     ]
    },
    {
     "name": "stdout",
     "output_type": "stream",
     "text": [
      "Iteration 1, loss = 2.62126075\n",
      "Iteration 2, loss = 2.46345494\n",
      "Iteration 3, loss = 2.48329649\n",
      "Iteration 4, loss = 2.38896935\n"
     ]
    },
    {
     "name": "stdout",
     "output_type": "stream",
     "text": [
      "Iteration 1, loss = 2.71350622\n",
      "Iteration 2, loss = 2.47892450\n",
      "Iteration 3, loss = 2.40572964\n",
      "Iteration 4, loss = 2.37601864\n"
     ]
    },
    {
     "name": "stdout",
     "output_type": "stream",
     "text": [
      "Iteration 1, loss = 3.02946908\n",
      "Iteration 2, loss = 2.77872481\n",
      "Iteration 3, loss = 2.74822031\n",
      "Iteration 4, loss = 2.78247670\n"
     ]
    },
    {
     "name": "stdout",
     "output_type": "stream",
     "text": [
      "Iteration 1, loss = 3.09840363\n",
      "Iteration 2, loss = 2.79884279\n",
      "Iteration 3, loss = 2.79022998\n",
      "Iteration 4, loss = 2.75000151\n"
     ]
    },
    {
     "name": "stdout",
     "output_type": "stream",
     "text": [
      "Iteration 1, loss = 2.96334504\n",
      "Iteration 2, loss = 2.83325838\n",
      "Iteration 3, loss = 2.76544496\n",
      "Iteration 4, loss = 2.65954197\n"
     ]
    },
    {
     "name": "stdout",
     "output_type": "stream",
     "text": [
      "Iteration 1, loss = 2.90040305\n",
      "Iteration 2, loss = 2.72965326\n",
      "Iteration 3, loss = 2.65967344\n",
      "Iteration 4, loss = 2.62452289\n"
     ]
    },
    {
     "name": "stdout",
     "output_type": "stream",
     "text": [
      "Iteration 1, loss = 2.89463844\n",
      "Iteration 2, loss = 2.66866759\n",
      "Iteration 3, loss = 2.61215920\n",
      "Iteration 4, loss = 2.55924768\n"
     ]
    },
    {
     "name": "stdout",
     "output_type": "stream",
     "text": [
      "Iteration 1, loss = 3.36985122\n",
      "Iteration 2, loss = 3.23276157\n",
      "Iteration 3, loss = 3.18073863\n",
      "Iteration 4, loss = 3.08853389\n"
     ]
    },
    {
     "name": "stdout",
     "output_type": "stream",
     "text": [
      "Iteration 1, loss = 3.69426751\n",
      "Iteration 2, loss = 3.58162144\n",
      "Iteration 3, loss = 3.55099916\n",
      "Iteration 4, loss = 3.46630155\n"
     ]
    }
   ],
   "source": [
    "for meta_block in level2_blocks:    \n",
    "    scaler = preprocessing.StandardScaler()\n",
    "    Xtrain = Xall.loc[months < meta_block]\n",
    "    Xtrain = scaler.fit_transform(Xtrain)\n",
    "    ytrain = yall[months < meta_block]\n",
    "    Xmeta = Xall.loc[months == meta_block]\n",
    "    Xmeta = scaler.transform(Xmeta)\n",
    "    \n",
    "    nn = neural_network.MLPRegressor(hidden_layer_sizes=(32,16), solver='adam',\n",
    "                                     max_iter=best_iter_nn, verbose=True)\n",
    "    nn.fit(Xtrain,ytrain)\n",
    "    \n",
    "    ymeta_nn = nn.predict(Xmeta).clip(0,20)\n",
    "    \n",
    "    X_level2[months_level2 == meta_block,3] = ymeta_nn\n",
    "    \n",
    "del Xtrain,ytrain,Xmeta,nn,ymeta_nn"
   ]
  },
  {
   "cell_type": "markdown",
   "metadata": {},
   "source": [
    "### Predict test meta-features"
   ]
  },
  {
   "cell_type": "code",
   "execution_count": 61,
   "metadata": {},
   "outputs": [
    {
     "name": "stdout",
     "output_type": "stream",
     "text": [
      "Iteration 1, loss = 3.75001017\n",
      "Iteration 2, loss = 3.57598808\n",
      "Iteration 3, loss = 3.49979393\n",
      "Iteration 4, loss = 3.43213998\n"
     ]
    }
   ],
   "source": [
    "scaler = preprocessing.StandardScaler()\n",
    "Xtrain = Xall.loc[months < 34]\n",
    "Xtrain = scaler.fit_transform(Xtrain)\n",
    "ytrain = yall[months < 34]\n",
    "Xtest = Xall.loc[months == 34]\n",
    "Xtest = scaler.transform(Xtest)\n",
    "\n",
    "nn = neural_network.MLPRegressor(hidden_layer_sizes=(32,16), solver='adam', max_iter=best_iter, verbose=True)\n",
    "nn.fit(Xtrain,ytrain)\n",
    "nn_pred = nn.predict(Xtest).clip(0,20)\n",
    "\n",
    "del Xtrain,ytrain"
   ]
  },
  {
   "cell_type": "code",
   "execution_count": 69,
   "metadata": {},
   "outputs": [],
   "source": [
    "# validate on public leaderboard\n",
    "submission = Xall.loc[months == 34, [\"shop_id\",\"item_id\"]]\n",
    "submission[\"item_cnt_month\"] = nn_pred\n",
    "submission.loc[submission.shop_id == 11, \"shop_id\"] = 10\n",
    "test = pd.read_csv(os.path.join(DATA_FOLDER, 'test.csv.gz'))\n",
    "submission = test.merge(submission, how=\"left\", on=[\"shop_id\",\"item_id\"])\n",
    "submission.drop(columns=[\"shop_id\",\"item_id\"], inplace=True)\n",
    "submission.to_csv(\"../Submissions/submission_nn.csv\", index=False)# 0.995"
   ]
  },
  {
   "cell_type": "code",
   "execution_count": 15,
   "metadata": {},
   "outputs": [],
   "source": [
    "with open(os.path.join(INTERM_RES_FOLDER, \"sets_level2.p\"), \"wb\") as f:\n",
    "    pickle.dump((X_level2,y_level2,months_level2), f)"
   ]
  }
 ],
 "metadata": {
  "kernelspec": {
   "display_name": "Python 3",
   "language": "python",
   "name": "python3"
  },
  "language_info": {
   "codemirror_mode": {
    "name": "ipython",
    "version": 3
   },
   "file_extension": ".py",
   "mimetype": "text/x-python",
   "name": "python",
   "nbconvert_exporter": "python",
   "pygments_lexer": "ipython3",
   "version": "3.6.9"
  }
 },
 "nbformat": 4,
 "nbformat_minor": 2
}
